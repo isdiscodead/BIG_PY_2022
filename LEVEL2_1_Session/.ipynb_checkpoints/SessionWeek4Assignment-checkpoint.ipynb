{
 "cells": [
  {
   "cell_type": "markdown",
   "id": "03ba96f3",
   "metadata": {},
   "source": [
    "### 1. homework.csv 파일로 로지스틱 회귀 진행"
   ]
  },
  {
   "cell_type": "code",
   "execution_count": 47,
   "id": "feb49f14",
   "metadata": {},
   "outputs": [
    {
     "name": "stdout",
     "output_type": "stream",
     "text": [
      "Index(['x', 'y'], dtype='object')\n",
      "[7.06192655]\n",
      "[-2.70235104]\n"
     ]
    }
   ],
   "source": [
    "import pandas as pd\n",
    "import numpy as np\n",
    "\n",
    "df = pd.read_csv(\"./week4_homework.csv\")\n",
    "print(df.columns)\n",
    "\n",
    "X = df[['x']] # 무조건 2차원으로 넣어줘야 함 ! \n",
    "y = df['y']\n",
    "\n",
    "from sklearn.linear_model import LogisticRegression\n",
    "log_reg = LogisticRegression()\n",
    "log_reg.fit(X, y)\n",
    "\n",
    "intercept = log_reg.intercept_\n",
    "coef = log_reg.coef_[0]\n",
    "print(intercept)\n",
    "print(coef)"
   ]
  },
  {
   "cell_type": "markdown",
   "id": "bbd33a1e",
   "metadata": {},
   "source": [
    "### 2. 데이터를 scatter 찍고 만든 회귀 그래프를 그려보기 "
   ]
  },
  {
   "cell_type": "code",
   "execution_count": 57,
   "id": "3e633bc6",
   "metadata": {},
   "outputs": [
    {
     "data": {
      "image/png": "[encoded data removed]",
      "text/plain": [
       "<Figure size 432x288 with 1 Axes>"
      ]
     },
     "metadata": {
      "needs_background": "light"
     },
     "output_type": "display_data"
    }
   ],
   "source": [
    "import matplotlib.pyplot as plt\n",
    "\n",
    "plt.scatter(X, y)\n",
    "plt.plot(X.to_numpy(), (intercept+coef*X).to_numpy(), color = 'red') \n",
    "plt.show()"
   ]
  },
  {
   "cell_type": "markdown",
   "id": "8de7a4dc",
   "metadata": {},
   "source": [
    "### 3. 모형의 정확도를 측정해보기"
   ]
  },
  {
   "cell_type": "code",
   "execution_count": 59,
   "id": "dc2409a1",
   "metadata": {},
   "outputs": [
    {
     "name": "stdout",
     "output_type": "stream",
     "text": [
      "0.9933333333333333\n"
     ]
    }
   ],
   "source": [
    "print(log_reg.score(X, y))"
   ]
  },
  {
   "cell_type": "markdown",
   "id": "0ee84944",
   "metadata": {},
   "source": [
    "### 4. log.csv 파일로 회귀 진행하기"
   ]
  },
  {
   "cell_type": "code",
   "execution_count": 60,
   "id": "1858c39c",
   "metadata": {},
   "outputs": [
    {
     "name": "stdout",
     "output_type": "stream",
     "text": [
      "[5.72224497]\n",
      "[[-0.44763344  0.89878042 -2.1136102  -0.86566425]]\n"
     ]
    }
   ],
   "source": [
    "import pandas as pd\n",
    "df = pd.read_csv(\"./week4_log.csv\")\n",
    "X = df[['x1', 'x2', 'x3','x4']]\n",
    "y = df['y']\n",
    "\n",
    "from sklearn.linear_model import LogisticRegression\n",
    "log_reg = LogisticRegression() # 여기에 매개변수로 패널티 종류, C값\n",
    "log_reg.fit(X, y)\n",
    "\n",
    "print(log_reg.intercept_)\n",
    "print(log_reg.coef_)"
   ]
  },
  {
   "cell_type": "markdown",
   "id": "9f5126fb",
   "metadata": {},
   "source": [
    "### 5. 4번을 진행한 후, 라쏘 릿지 회귀를 포함하여 진행하기 "
   ]
  },
  {
   "cell_type": "code",
   "execution_count": null,
   "id": "450eb52c",
   "metadata": {},
   "outputs": [],
   "source": [
    "df = pd.read_csv(\"./week4_log.csv\")\n",
    "X = df[['x1', 'x2', 'x3', 'x4']]\n",
    "y = df['y']\n",
    "\n",
    "# 릿지로 제약 설정, alpha = 1/λ\n",
    "from sklearn.linear_model import Ridge\n",
    "ridge_0_0001 = Ridge(alpha = 0.0001) # big lamda \n",
    "ridge_0_001 = Ridge(alpha = 0.001) \n",
    "ridge_0_01 = Ridge(alpha = 0.01)\n",
    "ridge_0_1 = Ridge(alpha = 0.1)\n",
    "ridge_1 = Ridge(alpha = 1)\n",
    "ridge_10 = Ridge(alpha = 10)\n",
    "ridge_100 = Ridge(alpha = 100) # small lamda\n",
    "\n",
    "# 릿지로 학습\n",
    "ridge_0_0001.fit(X, y)\n",
    "ridge_0_001.fit(X, y)\n",
    "ridge_0_01.fit(X, y)\n",
    "ridge_0_1.fit(X, y)\n",
    "ridge_1.fit(X, y)\n",
    "ridge_10.fit(X, y)\n",
    "ridge_100.fit(X, y)\n",
    "\n",
    "# 결과 출력\n",
    "print(log_reg.coef_)\n",
    "print(ridge_0_0001.coef_)\n",
    "print(ridge_0_001.coef_)\n",
    "print(ridge_0_01.coef_)\n",
    "print(ridge_0_1.coef_)\n",
    "print(ridge_1.coef_)\n",
    "print(ridge_10.coef_)\n",
    "print(ridge_100.coef_)"
   ]
  }
 ],
 "metadata": {
  "kernelspec": {
   "display_name": "Python 3 (ipykernel)",
   "language": "python",
   "name": "python3"
  },
  "language_info": {
   "codemirror_mode": {
    "name": "ipython",
    "version": 3
   },
   "file_extension": ".py",
   "mimetype": "text/x-python",
   "name": "python",
   "nbconvert_exporter": "python",
   "pygments_lexer": "ipython3",
   "version": "3.8.5"
  }
 },
 "nbformat": 4,
 "nbformat_minor": 5
}
