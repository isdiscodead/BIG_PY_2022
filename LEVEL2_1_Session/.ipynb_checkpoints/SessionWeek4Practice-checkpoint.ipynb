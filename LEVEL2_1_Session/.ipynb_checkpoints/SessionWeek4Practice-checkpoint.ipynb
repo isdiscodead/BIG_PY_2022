{
 "cells": [
  {
   "cell_type": "markdown",
   "id": "d05a3a23",
   "metadata": {},
   "source": [
    "### 다중 선형 회귀"
   ]
  },
  {
   "cell_type": "code",
   "execution_count": 5,
   "id": "44ec7f10",
   "metadata": {},
   "outputs": [
    {
     "name": "stdout",
     "output_type": "stream",
     "text": [
      "2.3412311451922108\n",
      "1.6159072106092527\n",
      "0.014384826255548126\n",
      "0.9595937494832257\n"
     ]
    }
   ],
   "source": [
    "import pandas as pd \n",
    "\n",
    "df = pd.read_csv(\"./week4_dataset.csv\")\n",
    "X = df[['x1', 'x2']]\n",
    "y = df['y']\n",
    "\n",
    "from sklearn.linear_model import LinearRegression\n",
    "\n",
    "lin_reg = LinearRegression()\n",
    "lin_reg.fit(X, y)\n",
    "\n",
    "print(lin_reg.intercept_) # 2.34123...\n",
    "print(lin_reg.coef_[0]) # 1.61590...\n",
    "print(lin_reg.coef_[1]) # 0.01438...\n",
    "\n",
    "# x2는 큰 영향 없다는 것을 해석할 수 있음 ! \n",
    "\n",
    "# 결정계수\n",
    "print(lin_reg.score(X, y)) # 0.959593..."
   ]
  },
  {
   "cell_type": "markdown",
   "id": "a149be4e",
   "metadata": {},
   "source": [
    "### 다항 회귀"
   ]
  },
  {
   "cell_type": "code",
   "execution_count": 12,
   "id": "2645972b",
   "metadata": {},
   "outputs": [
    {
     "name": "stdout",
     "output_type": "stream",
     "text": [
      "[2.10249927]\n",
      "[[0.91465495 0.44835174]]\n"
     ]
    }
   ],
   "source": [
    "import numpy as np \n",
    "\n",
    "# 데이터 생성\n",
    "m = 100\n",
    "X = 6 * np.random.rand(m, 1) - 3 # 100개의 난수, -3 to 1 \n",
    "# y = 0.5x^2 + x + 2 + 노이즈\n",
    "y = 0.5 * X**2 + X + 2 + np.random.randn(m, 1)\n",
    "\n",
    "# 데이터셋 모양 바꾸기 ( x, x^2 항으로 분리 )\n",
    "from sklearn.preprocessing import PolynomialFeatures\n",
    "poly_features = PolynomialFeatures(degree=2, include_bias=False) # 2차로 분리\n",
    "X_poly = poly_features.fit_transform(X)\n",
    "\n",
    "# 회귀 모형 적용\n",
    "from sklearn.linear_model import LinearRegression\n",
    "lin_reg = LinearRegression()\n",
    "lin_reg.fit(X_poly, y)\n",
    "\n",
    "# 결과 -> \n",
    "print(lin_reg.intercept_) \n",
    "print(lin_reg.coef_)\n"
   ]
  },
  {
   "cell_type": "markdown",
   "id": "ead8d672",
   "metadata": {},
   "source": [
    "## 로지스틱 회귀"
   ]
  },
  {
   "cell_type": "code",
   "execution_count": 16,
   "id": "4210f3e5",
   "metadata": {},
   "outputs": [
    {
     "name": "stdout",
     "output_type": "stream",
     "text": [
      "[5.72224497]\n",
      "[[-0.44763344  0.89878042 -2.1136102  -0.86566425]]\n"
     ]
    }
   ],
   "source": [
    "import pandas as pd\n",
    "df = pd.read_csv(\"./week4_log.csv\")\n",
    "X = df[['x1', 'x2', 'x3','x4']]\n",
    "y = df['y']\n",
    "\n",
    "from sklearn.linear_model import LogisticRegression\n",
    "log_reg = LogisticRegression() # 여기에 매개변수로 패널티 종류, C값\n",
    "log_reg.fit(X, y)\n",
    "\n",
    "print(log_reg.intercept_)\n",
    "print(log_reg.coef_)"
   ]
  },
  {
   "cell_type": "markdown",
   "id": "118e07d6",
   "metadata": {},
   "source": [
    "### 라쏘 /  릿지"
   ]
  },
  {
   "cell_type": "code",
   "execution_count": 14,
   "id": "cea8c7e6",
   "metadata": {},
   "outputs": [
    {
     "name": "stdout",
     "output_type": "stream",
     "text": [
      "[5.72224497]\n",
      "[[-0.44763344  0.89878042 -2.1136102  -0.86566425]]\n",
      "[[-0.44763344  0.89878042 -2.1136102  -0.86566425]]\n",
      "[ 0.05808584  0.24801105 -0.21519772 -0.05888311]\n",
      "[ 0.05808481  0.24800307 -0.21519699 -0.0588849 ]\n",
      "[ 0.0580745   0.2479233  -0.21518962 -0.05890274]\n",
      "[ 0.05796968  0.24712991 -0.21511528 -0.05908003]\n",
      "[ 0.0567696   0.23959379 -0.21431851 -0.06073484]\n",
      "[ 0.04033076  0.18775751 -0.20570594 -0.06892535]\n",
      "[-0.02258985  0.06972631 -0.1633292  -0.06504729]\n"
     ]
    }
   ],
   "source": [
    "df = pd.read_csv(\"./week4_log.csv\")\n",
    "X = df[['x1', 'x2', 'x3', 'x4']]\n",
    "y = df['y']\n",
    "\n",
    "# 릿지 사용 X 로지스틱 회귀 \n",
    "from sklearn.linear_model import LogisticRegression\n",
    "log_reg = LogisticRegression()\n",
    "log_reg.fit(X, y)\n",
    "print(log_reg.intercept_)\n",
    "print(log_reg.coef_)\n",
    "\n",
    "# 릿지로 제약 설정, alpah = 1/λ\n",
    "from sklearn.linear_model import Ridge\n",
    "ridge_0_0001 = Ridge(alpha = 0.0001) # big lamda \n",
    "ridge_0_001 = Ridge(alpha = 0.001) \n",
    "ridge_0_01 = Ridge(alpha = 0.01)\n",
    "ridge_0_1 = Ridge(alpha = 0.1)\n",
    "ridge_1 = Ridge(alpha = 1)\n",
    "ridge_10 = Ridge(alpha = 10)\n",
    "ridge_100 = Ridge(alpha = 100) # small lamda\n",
    "\n",
    "# 릿지로 학습\n",
    "ridge_0_0001.fit(X, y)\n",
    "ridge_0_001.fit(X, y)\n",
    "ridge_0_01.fit(X, y)\n",
    "ridge_0_1.fit(X, y)\n",
    "ridge_1.fit(X, y)\n",
    "ridge_10.fit(X, y)\n",
    "ridge_100.fit(X, y)\n",
    "\n",
    "# 결과 출력\n",
    "print(log_reg.coef_)\n",
    "print(ridge_0_0001.coef_)\n",
    "print(ridge_0_001.coef_)\n",
    "print(ridge_0_01.coef_)\n",
    "print(ridge_0_1.coef_)\n",
    "print(ridge_1.coef_)\n",
    "print(ridge_10.coef_)\n",
    "print(ridge_100.coef_)"
   ]
  }
 ],
 "metadata": {
  "kernelspec": {
   "display_name": "Python 3 (ipykernel)",
   "language": "python",
   "name": "python3"
  },
  "language_info": {
   "codemirror_mode": {
    "name": "ipython",
    "version": 3
   },
   "file_extension": ".py",
   "mimetype": "text/x-python",
   "name": "python",
   "nbconvert_exporter": "python",
   "pygments_lexer": "ipython3",
   "version": "3.8.5"
  }
 },
 "nbformat": 4,
 "nbformat_minor": 5
}
