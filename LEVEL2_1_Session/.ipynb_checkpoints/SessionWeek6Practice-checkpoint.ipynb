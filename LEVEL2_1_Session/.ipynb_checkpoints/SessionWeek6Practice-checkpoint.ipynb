{
 "cells": [
  {
   "cell_type": "markdown",
   "id": "e4e3eff4",
   "metadata": {},
   "source": [
    "## 결정 트리 학습과 시각화"
   ]
  },
  {
   "cell_type": "code",
   "execution_count": 1,
   "id": "c39a636d",
   "metadata": {},
   "outputs": [
    {
     "data": {
      "text/plain": [
       "DecisionTreeClassifier(max_depth=2, random_state=42)"
      ]
     },
     "execution_count": 1,
     "metadata": {},
     "output_type": "execute_result"
    }
   ],
   "source": [
    "from sklearn.datasets import load_iris\n",
    "from sklearn.tree import DecisionTreeClassifier # 트리 모듈 내의 결정 트리 분류 이용 \n",
    "\n",
    "iris = load_iris()\n",
    "X = iris.data[:, 2:] # 꽃잎 길이와 너비만 가져옴 \n",
    "y = iris.target\n",
    "\n",
    "tree_clf = DecisionTreeClassifier(max_depth=2, random_state=42)\n",
    "tree_clf.fit(X, y) # 학습\n"
   ]
  },
  {
   "cell_type": "markdown",
   "id": "3733f217",
   "metadata": {},
   "source": [
    "export_graphiz() 함수 -> 그래프를 .dot 파일로 출력하여 시각화 가능"
   ]
  },
  {
   "cell_type": "code",
   "execution_count": 2,
   "id": "a0962403",
   "metadata": {},
   "outputs": [
    {
     "data": {
      "text/plain": [
       "' \\nimport os\\nfrom graphviz import Source\\nfrom sklearn.tree import export_graphviz\\n\\nexport_graphviz(\\n    tree_clf,\\n    out_file = os.path.join(\"./\", \"iris_tree.dot\"),\\n    feature_names = iris.feature_names[2:],\\n    class_names = iris.target_names,\\n    rounded = True,\\n    filled = True\\n)\\n\\nSource.from_file(os.path.join(\"./\", \"iris_tree.dot\"))\\n'"
      ]
     },
     "execution_count": 2,
     "metadata": {},
     "output_type": "execute_result"
    }
   ],
   "source": [
    "''' \n",
    "import os\n",
    "from graphviz import Source\n",
    "from sklearn.tree import export_graphviz\n",
    "\n",
    "export_graphviz(\n",
    "    tree_clf,\n",
    "    out_file = os.path.join(\"./\", \"iris_tree.dot\"),\n",
    "    feature_names = iris.feature_names[2:],\n",
    "    class_names = iris.target_names,\n",
    "    rounded = True,\n",
    "    filled = True\n",
    ")\n",
    "\n",
    "Source.from_file(os.path.join(\"./\", \"iris_tree.dot\"))\n",
    "'''"
   ]
  },
  {
   "cell_type": "markdown",
   "id": "aeb49f14",
   "metadata": {},
   "source": [
    "## 앙상블"
   ]
  },
  {
   "cell_type": "markdown",
   "id": "f42cc45a",
   "metadata": {},
   "source": [
    "### hard voting 분류기"
   ]
  },
  {
   "cell_type": "code",
   "execution_count": 17,
   "id": "fedd933b",
   "metadata": {},
   "outputs": [
    {
     "name": "stdout",
     "output_type": "stream",
     "text": [
      "LogisticRegression 0.9666666666666667\n",
      "RandomForestClassifier 0.9666666666666667\n",
      "SVC 0.9666666666666667\n",
      "VotingClassifier 0.9666666666666667\n"
     ]
    }
   ],
   "source": [
    "# 데이터 홀드아웃\n",
    "from sklearn.model_selection import train_test_split\n",
    "X_train, X_test, y_train, y_test = train_test_split(X, y, test_size=0.4, shuffle=True)\n",
    "\n",
    "\n",
    "from sklearn.ensemble import RandomForestClassifier\n",
    "from sklearn.ensemble import VotingClassifier\n",
    "from sklearn.linear_model import LogisticRegression\n",
    "from sklearn.svm import SVC\n",
    "\n",
    "log_clf = LogisticRegression(solver=\"lbfgs\", random_state=42)\n",
    "rnd_clf = RandomForestClassifier(n_estimators=100, random_state=42)\n",
    "svm_clf = SVC(gamma=\"scale\", random_state=42)\n",
    "\n",
    "vot_clf = VotingClassifier(\n",
    "    estimators = [('lr', log_clf), ('rf', rnd_clf), ('svc', svm_clf)],\n",
    "    voting = 'hard' # hard or soft ? \n",
    ")\n",
    "\n",
    "vot_clf.fit(X_train, y_train)\n",
    "\n",
    "\n",
    "# 학습 결과 확인\n",
    "from sklearn.metrics import accuracy_score\n",
    "\n",
    "for clf in ( log_clf, rnd_clf, svm_clf, vot_clf ) :\n",
    "    clf.fit(X_train, y_train)\n",
    "    y_pred = clf.predict(X_test)\n",
    "    print(clf.__class__.__name__, accuracy_score(y_test, y_pred))\n",
    "    # 보통은... 앙상블이 확률 더 높음 ^^ ... "
   ]
  },
  {
   "cell_type": "markdown",
   "id": "7a499880",
   "metadata": {},
   "source": [
    "### bagging & pasting"
   ]
  },
  {
   "cell_type": "code",
   "execution_count": 21,
   "id": "569d366c",
   "metadata": {},
   "outputs": [
    {
     "name": "stdout",
     "output_type": "stream",
     "text": [
      "BaggingClassifier 0.9666666666666667\n"
     ]
    }
   ],
   "source": [
    "from sklearn.ensemble import BaggingClassifier\n",
    "from sklearn.tree import DecisionTreeClassifier\n",
    "\n",
    "bag_clf = BaggingClassifier(\n",
    "    DecisionTreeClassifier(),\n",
    "    n_estimators = 500,\n",
    "    max_samples = 50,\n",
    "    bootstrap = True, # 중복 허용\n",
    "    oob_score = True, # oob score 자동 평가\n",
    "    random_state = 42\n",
    ")\n",
    "bag_clf.fit(X_train, y_train)\n",
    "y_pred = bag_clf.predict(X_test)\n",
    "print(bag_clf.__class__.__name__, accuracy_score(y_test, y_pred))"
   ]
  },
  {
   "cell_type": "markdown",
   "id": "ba21da9c",
   "metadata": {},
   "source": [
    "### 랜덤 포레스트 RandomForest"
   ]
  },
  {
   "cell_type": "code",
   "execution_count": 23,
   "id": "db8561ca",
   "metadata": {},
   "outputs": [],
   "source": [
    "from sklearn.ensemble import RandomForestClassifier\n",
    "\n",
    "rnd_clf = RandomForestClassifier(\n",
    "    n_estimators = 500,\n",
    "    max_leaf_nodes = 16,\n",
    "    random_state = 42\n",
    ")\n",
    "rnd_clf.fit(X_train, y_train)\n",
    "y_pred_rf = rnd_clf.predict(X_test)"
   ]
  },
  {
   "cell_type": "markdown",
   "id": "92a6b90a",
   "metadata": {},
   "source": [
    "### Extra Trees"
   ]
  },
  {
   "cell_type": "code",
   "execution_count": 24,
   "id": "eee8231b",
   "metadata": {},
   "outputs": [],
   "source": [
    "from sklearn.ensemble import ExtraTreesClassifier\n",
    "\n",
    "rnd_clf = ExtraTreesClassifier(\n",
    "    n_estimators = 500,\n",
    "    max_leaf_nodes = 16,\n",
    "    random_state = 42\n",
    ")\n",
    "rnd_clf.fit(X_train, y_train)\n",
    "y_pred_rf = rnd_clf.predict(X_test)"
   ]
  },
  {
   "cell_type": "markdown",
   "id": "47f0d689",
   "metadata": {},
   "source": [
    "### 특성 중요도"
   ]
  },
  {
   "cell_type": "code",
   "execution_count": 25,
   "id": "f1b2b02c",
   "metadata": {},
   "outputs": [
    {
     "name": "stdout",
     "output_type": "stream",
     "text": [
      "sepal length (cm) 0.11249225099876375\n",
      "sepal width (cm) 0.02311928828251033\n",
      "petal length (cm) 0.4410304643639577\n",
      "petal width (cm) 0.4233579963547682\n"
     ]
    }
   ],
   "source": [
    "# iris 데이터 셋에 랜덤포레스트 훈련 후 각 특성의 중요도를 출력하는 코드\n",
    "from sklearn.datasets import load_iris\n",
    "\n",
    "iris = load_iris()\n",
    "rnd_clf = RandomForestClassifier(\n",
    "    n_estimators = 500,\n",
    "    random_state = 42\n",
    ")\n",
    "rnd_clf.fit( iris[\"data\"], iris[\"target\"] )\n",
    "for name, score in zip(iris[\"feature_names\"], rnd_clf.feature_importances_) :\n",
    "    print(name, score) # 가장 중요한 특성 = 꽃잎의 길이와 너비"
   ]
  },
  {
   "cell_type": "markdown",
   "id": "84f1b2ca",
   "metadata": {},
   "source": [
    "### 에이다 부스트"
   ]
  },
  {
   "cell_type": "code",
   "execution_count": 26,
   "id": "8e5749a7",
   "metadata": {},
   "outputs": [
    {
     "data": {
      "text/plain": [
       "AdaBoostClassifier(base_estimator=DecisionTreeClassifier(max_depth=1),\n",
       "                   learning_rate=0.5, n_estimators=200, random_state=42)"
      ]
     },
     "execution_count": 26,
     "metadata": {},
     "output_type": "execute_result"
    }
   ],
   "source": [
    "from sklearn.ensemble import AdaBoostClassifier\n",
    "\n",
    "ada_clf = AdaBoostClassifier(\n",
    "    DecisionTreeClassifier(max_depth=1),\n",
    "    n_estimators = 200, # 200개의 아주 얕은 결정 트리를 기반으로 ... \n",
    "    algorithm = \"SAMME.R\",\n",
    "    learning_rate = 0.5,\n",
    "    random_state = 42\n",
    ")\n",
    "ada_clf.fit(X_train, y_train)"
   ]
  },
  {
   "cell_type": "markdown",
   "id": "1db5787b",
   "metadata": {},
   "source": [
    "### 그레디언트 부스팅"
   ]
  },
  {
   "cell_type": "code",
   "execution_count": 27,
   "id": "5d478f5b",
   "metadata": {},
   "outputs": [
    {
     "data": {
      "text/plain": [
       "GradientBoostingRegressor(learning_rate=1.0, max_depth=2, n_estimators=3,\n",
       "                          random_state=42)"
      ]
     },
     "execution_count": 27,
     "metadata": {},
     "output_type": "execute_result"
    }
   ],
   "source": [
    "from sklearn.ensemble import GradientBoostingRegressor\n",
    "\n",
    "gbrt = GradientBoostingRegressor( \n",
    "    max_depth = 2,\n",
    "    n_estimators = 3,\n",
    "    learning_rate = 1.0,\n",
    "    random_state = 42\n",
    ")\n",
    "gbrt.fit(X, y)"
   ]
  },
  {
   "cell_type": "markdown",
   "id": "161f785c",
   "metadata": {},
   "source": [
    "### GBRT 최적 트리 수 찾기 : staged_predict()"
   ]
  },
  {
   "cell_type": "code",
   "execution_count": 29,
   "id": "2ca94461",
   "metadata": {},
   "outputs": [
    {
     "data": {
      "text/plain": [
       "GradientBoostingRegressor(max_depth=2, n_estimators=120, random_state=42)"
      ]
     },
     "execution_count": 29,
     "metadata": {},
     "output_type": "execute_result"
    }
   ],
   "source": [
    "import numpy as np\n",
    "from sklearn.model_selection import train_test_split\n",
    "from sklearn.metrics import mean_squared_error\n",
    "\n",
    "gbrt = GradientBoostingRegressor( \n",
    "    max_depth = 2,\n",
    "    n_estimators = 120,\n",
    "    random_state = 42\n",
    ")\n",
    "gbrt.fit(X_train, y_train)\n",
    "\n",
    "errors = [mean_squared_error(y_test, y_pred) \n",
    "          for y_pred in gbrt.staged_predict(X_test)]\n",
    "\n",
    "bst_n_estimators = np.argmin(errors) + 1\n",
    "gbrt_best = GradientBoostingRegressor(\n",
    "    max_depth = 2,\n",
    "    n_estimators = bst_n_estimators,\n",
    "    random_state = 42\n",
    ")\n",
    "gbrt.fit(X_train, y_train)\n"
   ]
  },
  {
   "cell_type": "markdown",
   "id": "27df447f",
   "metadata": {},
   "source": [
    "### GBRT 최적 트리 수 찾기 : warm_start = True로 실제 훈련 중지 "
   ]
  },
  {
   "cell_type": "code",
   "execution_count": null,
   "id": "23ba6b1e",
   "metadata": {},
   "outputs": [],
   "source": [
    "gbrt = GradientBoostingRegressor(max_depth=2, warm_start=True, random_state=42)\n",
    "\n",
    "min_val_error = float(\"inf\")\n",
    "error_going_up = 0\n",
    "\n",
    "for n_estimators in range(1, 120) :\n",
    "    gbrt.n_estimators = n_estimators\n",
    "    gbrt.fit(X_train, y_train)\n",
    "    y_pred = gbrt.predict(X_test)\n",
    "    val_error = mean_squared_error(y_test, y_pred)\n",
    "    \n",
    "    if val_error < min_val_error : \n",
    "        min_val_error = val_error \n",
    "        error_going_up = 0\n",
    "    else : \n",
    "        error_going_up += 1\n",
    "        if error_going_up == 5 :\n",
    "            break # early end "
   ]
  }
 ],
 "metadata": {
  "kernelspec": {
   "display_name": "Python 3 (ipykernel)",
   "language": "python",
   "name": "python3"
  },
  "language_info": {
   "codemirror_mode": {
    "name": "ipython",
    "version": 3
   },
   "file_extension": ".py",
   "mimetype": "text/x-python",
   "name": "python",
   "nbconvert_exporter": "python",
   "pygments_lexer": "ipython3",
   "version": "3.8.5"
  }
 },
 "nbformat": 4,
 "nbformat_minor": 5
}
