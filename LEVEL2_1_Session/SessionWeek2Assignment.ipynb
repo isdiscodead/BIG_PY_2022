{
 "cells": [
  {
   "cell_type": "markdown",
   "id": "4fede58b",
   "metadata": {},
   "source": [
    "### 1. `homework.csv` 읽어오기"
   ]
  },
  {
   "cell_type": "code",
   "execution_count": 3,
   "id": "26493cfb",
   "metadata": {},
   "outputs": [
    {
     "name": "stdout",
     "output_type": "stream",
     "text": [
      "      x1   x2  y\n",
      "0    7.7  3.8  1\n",
      "1    5.8  2.8  1\n",
      "2    5.7  2.8  1\n",
      "3    5.2  2.7  1\n",
      "4    6.3  2.3  1\n",
      "..   ...  ... ..\n",
      "145  6.7  3.3  1\n",
      "146  5.7  3.0  1\n",
      "147  4.7  3.2  0\n",
      "148  5.1  3.4  0\n",
      "149  7.4  2.8  1\n",
      "\n",
      "[150 rows x 3 columns] <class 'pandas.core.frame.DataFrame'>\n"
     ]
    }
   ],
   "source": [
    "import pandas as pd\n",
    "\n",
    "data = pd.read_csv('week2_homework.csv') # DataFrame\n",
    "print(data, type(data))"
   ]
  },
  {
   "cell_type": "markdown",
   "id": "deb17e2a",
   "metadata": {},
   "source": [
    "### 2. train:test = 7:3 비율로 데이터셋 분리하기 ( Hold Out !! )"
   ]
  },
  {
   "cell_type": "code",
   "execution_count": 20,
   "id": "a84d6877",
   "metadata": {},
   "outputs": [
    {
     "name": "stdout",
     "output_type": "stream",
     "text": [
      "(150, 2) (150,) <class 'pandas.core.series.Series'>\n"
     ]
    }
   ],
   "source": [
    "x, y = data[[\"x1\", \"x2\"]], data[\"y\"]\n",
    "print(x.shape, y.shape, type(x1))"
   ]
  },
  {
   "cell_type": "code",
   "execution_count": 28,
   "id": "ec3d113d",
   "metadata": {},
   "outputs": [
    {
     "name": "stdout",
     "output_type": "stream",
     "text": [
      "(105, 2) (105,)\n"
     ]
    }
   ],
   "source": [
    "from sklearn.model_selection import train_test_split\n",
    "\n",
    "x_train, x_test, y_train, y_test = train_test_split(x, y, test_size=0.3, \n",
    "shuffle=True, stratify=y, random_state=34)\n",
    "print(x_train.shape, y_train.shape)"
   ]
  },
  {
   "cell_type": "markdown",
   "id": "de693888",
   "metadata": {},
   "source": [
    "### 3. SGDClassifier를 이용해서 학습 시키기"
   ]
  },
  {
   "cell_type": "code",
   "execution_count": 25,
   "id": "10e22215",
   "metadata": {},
   "outputs": [
    {
     "data": {
      "text/plain": [
       "SGDClassifier(random_state=42)"
      ]
     },
     "execution_count": 25,
     "metadata": {},
     "output_type": "execute_result"
    }
   ],
   "source": [
    "from sklearn.linear_model import SGDClassifier\n",
    "\n",
    "sgd_clf = SGDClassifier(random_state=42)\n",
    "sgd_clf.fit(x_train, y_train)"
   ]
  },
  {
   "cell_type": "markdown",
   "id": "12d66c21",
   "metadata": {},
   "source": [
    "### 4. train data로 Cross Validation 진행하기 ( k=3 )"
   ]
  },
  {
   "cell_type": "code",
   "execution_count": 26,
   "id": "82f79234",
   "metadata": {},
   "outputs": [
    {
     "name": "stdout",
     "output_type": "stream",
     "text": [
      "[1. 1. 1. 1. 1.]\n"
     ]
    }
   ],
   "source": [
    "from sklearn.model_selection import cross_val_score\n",
    "\n",
    "print( cross_val_score(sgd_clf, x_train, y_train, cv=5, scoring=\"accuracy\") ) # ??"
   ]
  },
  {
   "cell_type": "markdown",
   "id": "d93573b0",
   "metadata": {},
   "source": [
    "### 5. train data, test data의 Confusion Matrix를 각각 출력하기"
   ]
  },
  {
   "cell_type": "code",
   "execution_count": 31,
   "id": "6bc6365e",
   "metadata": {},
   "outputs": [
    {
     "name": "stdout",
     "output_type": "stream",
     "text": [
      "train \n",
      " [[35  0]\n",
      " [ 0 70]] \n",
      "test\n",
      " [[10  5]\n",
      " [ 1 29]]\n"
     ]
    }
   ],
   "source": [
    "from sklearn.model_selection import cross_val_predict\n",
    "y_train_pred = cross_val_predict(sgd_clf, x_train, y_train, cv=5)\n",
    "y_test_pred = cross_val_predict(sgd_clf, x_test, y_test, cv=5)\n",
    "\n",
    "from sklearn.metrics import confusion_matrix\n",
    "train_cm = confusion_matrix(y_train, y_train_pred)\n",
    "test_cm = confusion_matrix(y_test, y_test_pred)\n",
    "print(\"train \\n\", train_cm , \"\\ntest\\n\", test_cm)"
   ]
  }
 ],
 "metadata": {
  "kernelspec": {
   "display_name": "Python 3 (ipykernel)",
   "language": "python",
   "name": "python3"
  },
  "language_info": {
   "codemirror_mode": {
    "name": "ipython",
    "version": 3
   },
   "file_extension": ".py",
   "mimetype": "text/x-python",
   "name": "python",
   "nbconvert_exporter": "python",
   "pygments_lexer": "ipython3",
   "version": "3.8.5"
  }
 },
 "nbformat": 4,
 "nbformat_minor": 5
}
