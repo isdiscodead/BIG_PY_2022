{
 "cells": [
  {
   "cell_type": "markdown",
   "id": "eceb7449",
   "metadata": {},
   "source": [
    "### 1. homework.csv 파일로 로지스틱 회귀 진행"
   ]
  },
  {
   "cell_type": "code",
   "execution_count": 18,
   "id": "69107197",
   "metadata": {},
   "outputs": [
    {
     "name": "stdout",
     "output_type": "stream",
     "text": [
      "Index(['x', 'y'], dtype='object')\n",
      "[7.06192655]\n",
      "[-2.70235104]\n"
     ]
    }
   ],
   "source": [
    "import pandas as pd\n",
    "import numpy as np\n",
    "\n",
    "df = pd.read_csv(\"./week4_homework.csv\")\n",
    "print(df.columns)\n",
    "\n",
    "X = df[['x']] # 무조건 2차원으로 넣어줘야 함 ! \n",
    "y = df['y']\n",
    "\n",
    "from sklearn.linear_model import LogisticRegression\n",
    "log_reg = LogisticRegression()\n",
    "log_reg.fit(X, y)\n",
    "\n",
    "intercept = log_reg.intercept_\n",
    "coef = log_reg.coef_[0]\n",
    "print(intercept)\n",
    "print(coef)"
   ]
  },
  {
   "cell_type": "markdown",
   "id": "9bcb6fb9",
   "metadata": {},
   "source": [
    "### 2. 데이터를 scatter 찍고 만든 회귀 그래프를 그려보기 "
   ]
  },
  {
   "cell_type": "code",
   "execution_count": 19,
   "id": "2d186c64",
   "metadata": {},
   "outputs": [
    {
     "data": {
      "image/png": "[encoded data removed]",
      "text/plain": [
       "<Figure size 432x288 with 1 Axes>"
      ]
     },
     "metadata": {
      "needs_background": "light"
     },
     "output_type": "display_data"
    }
   ],
   "source": [
    "import matplotlib.pyplot as plt\n",
    "\n",
    "plt.scatter(X, y)\n",
    "\n",
    "X_r = np.linspace(min(X['x']), max(X['x']), 100)\n",
    "y_r = 1/(1+np.exp(-(intercept+X_r*coef)))\n",
    "plt.plot(X_r, y_r)\n",
    "\n",
    "plt.show()"
   ]
  },
  {
   "cell_type": "markdown",
   "id": "68539fa9",
   "metadata": {},
   "source": [
    "### 3. 모형의 정확도를 측정해보기"
   ]
  },
  {
   "cell_type": "code",
   "execution_count": 20,
   "id": "26b6cf42",
   "metadata": {},
   "outputs": [
    {
     "name": "stdout",
     "output_type": "stream",
     "text": [
      "0.9933333333333333\n"
     ]
    }
   ],
   "source": [
    "print(log_reg.score(X, y))"
   ]
  },
  {
   "cell_type": "markdown",
   "id": "80d5b29d",
   "metadata": {},
   "source": [
    "### 4. log.csv 파일로 회귀 진행하기"
   ]
  },
  {
   "cell_type": "code",
   "execution_count": 21,
   "id": "f6484790",
   "metadata": {},
   "outputs": [
    {
     "name": "stdout",
     "output_type": "stream",
     "text": [
      "[5.72224497]\n",
      "[[-0.44763344  0.89878042 -2.1136102  -0.86566425]]\n"
     ]
    }
   ],
   "source": [
    "import pandas as pd\n",
    "df = pd.read_csv(\"./week4_log.csv\")\n",
    "X = df[['x1', 'x2', 'x3','x4']]\n",
    "y = df['y']\n",
    "\n",
    "from sklearn.linear_model import LogisticRegression\n",
    "log_reg = LogisticRegression() # 여기에 매개변수로 패널티 종류, C값\n",
    "log_reg.fit(X, y)\n",
    "\n",
    "print(log_reg.intercept_)\n",
    "print(log_reg.coef_)"
   ]
  },
  {
   "cell_type": "markdown",
   "id": "cabcb292",
   "metadata": {},
   "source": [
    "### 5. 4번을 진행한 후, 라쏘 릿지 회귀를 포함하여 진행하기 "
   ]
  },
  {
   "cell_type": "code",
   "execution_count": 22,
   "id": "e8cf0267",
   "metadata": {},
   "outputs": [
    {
     "name": "stdout",
     "output_type": "stream",
     "text": [
      "[[-0.44763344  0.89878042 -2.1136102  -0.86566425]]\n",
      "[ 0.05808584  0.24801105 -0.21519772 -0.05888311]\n",
      "[ 0.05808481  0.24800307 -0.21519699 -0.0588849 ]\n",
      "[ 0.0580745   0.2479233  -0.21518962 -0.05890274]\n",
      "[ 0.05796968  0.24712991 -0.21511528 -0.05908003]\n",
      "[ 0.0567696   0.23959379 -0.21431851 -0.06073484]\n",
      "[ 0.04033076  0.18775751 -0.20570594 -0.06892535]\n",
      "[-0.02258985  0.06972631 -0.1633292  -0.06504729]\n"
     ]
    }
   ],
   "source": [
    "# 릿지로 제약 설정, alpha = 1/λ\n",
    "from sklearn.linear_model import Ridge\n",
    "ridge_0_0001 = Ridge(alpha = 0.0001) # big lamda \n",
    "ridge_0_001 = Ridge(alpha = 0.001) \n",
    "ridge_0_01 = Ridge(alpha = 0.01)\n",
    "ridge_0_1 = Ridge(alpha = 0.1)\n",
    "ridge_1 = Ridge(alpha = 1)\n",
    "ridge_10 = Ridge(alpha = 10)\n",
    "ridge_100 = Ridge(alpha = 100) # small lamda\n",
    "\n",
    "# 릿지로 학습\n",
    "ridge_0_0001.fit(X, y)\n",
    "ridge_0_001.fit(X, y)\n",
    "ridge_0_01.fit(X, y)\n",
    "ridge_0_1.fit(X, y)\n",
    "ridge_1.fit(X, y)\n",
    "ridge_10.fit(X, y)\n",
    "ridge_100.fit(X, y)\n",
    "\n",
    "# 결과 출력\n",
    "print(log_reg.coef_)\n",
    "print(ridge_0_0001.coef_)\n",
    "print(ridge_0_001.coef_)\n",
    "print(ridge_0_01.coef_)\n",
    "print(ridge_0_1.coef_)\n",
    "print(ridge_1.coef_)\n",
    "print(ridge_10.coef_)\n",
    "print(ridge_100.coef_)"
   ]
  },
  {
   "cell_type": "code",
   "execution_count": 23,
   "id": "9190115c",
   "metadata": {},
   "outputs": [
    {
     "name": "stdout",
     "output_type": "stream",
     "text": [
      "[[-0.44763344  0.89878042 -2.1136102  -0.86566425]]\n",
      "[ 0.05751739  0.24764648 -0.2155107  -0.05758319]\n",
      "[ 0.05252874  0.24424706 -0.21847382 -0.04569506]\n",
      "[ 0.          0.21871456 -0.21579479 -0.        ]\n",
      "[-0.          0.         -0.20985714 -0.        ]\n",
      "[-0.  0. -0. -0.]\n",
      "[-0.  0. -0. -0.]\n",
      "[-0.  0. -0. -0.]\n"
     ]
    }
   ],
   "source": [
    "from sklearn.linear_model import Lasso\n",
    "\n",
    "lasso_0_0001 = Lasso(alpha = 0.0001) # big lamda \n",
    "lasso_0_001 = Lasso(alpha = 0.001) \n",
    "lasso_0_01 = Lasso(alpha = 0.01)\n",
    "lasso_0_1 = Lasso(alpha = 0.1)\n",
    "lasso_1 = Lasso(alpha = 1)\n",
    "lasso_10 = Lasso(alpha = 10)\n",
    "lasso_100 = Lasso(alpha = 100) # small lamda\n",
    "\n",
    "# 라쏘로 학습\n",
    "lasso_0_0001.fit(X, y)\n",
    "lasso_0_001.fit(X, y)\n",
    "lasso_0_01.fit(X, y)\n",
    "lasso_0_1.fit(X, y)\n",
    "lasso_1.fit(X, y)\n",
    "lasso_10.fit(X, y)\n",
    "lasso_100.fit(X, y)\n",
    "\n",
    "# 결과 출력\n",
    "print(log_reg.coef_)\n",
    "print(lasso_0_0001.coef_)\n",
    "print(lasso_0_001.coef_)\n",
    "print(lasso_0_01.coef_)\n",
    "print(lasso_0_1.coef_)\n",
    "print(lasso_1.coef_)\n",
    "print(lasso_10.coef_)\n",
    "print(lasso_100.coef_)\n",
    "\n",
    "# LogisticRegression(penalty='l2', C=lamda)\n",
    "# LogisticRegression(penalty='l1', C=lamda, solver='saga') 이런 식으로도 사용 가능\n",
    "# Ridge, Lasso 모듈은 solver의 default 값이 auto... 원하는대로 사용 불가능 \n",
    "# penalty의 default값 = l2\n",
    "# solver는 default값 lbfgs, l1 사용하려면 saga나 liblinear 사용 "
   ]
  },
  {
   "cell_type": "code",
   "execution_count": null,
   "id": "09b877d0",
   "metadata": {},
   "outputs": [],
   "source": []
  }
 ],
 "metadata": {
  "kernelspec": {
   "display_name": "Python 3 (ipykernel)",
   "language": "python",
   "name": "python3"
  },
  "language_info": {
   "codemirror_mode": {
    "name": "ipython",
    "version": 3
   },
   "file_extension": ".py",
   "mimetype": "text/x-python",
   "name": "python",
   "nbconvert_exporter": "python",
   "pygments_lexer": "ipython3",
   "version": "3.8.5"
  }
 },
 "nbformat": 4,
 "nbformat_minor": 5
}
