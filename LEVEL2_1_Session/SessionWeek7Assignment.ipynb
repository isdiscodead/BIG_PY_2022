{
 "cells": [
  {
   "cell_type": "code",
   "execution_count": 1,
   "id": "1d0237c6",
   "metadata": {},
   "outputs": [],
   "source": [
    "from sklearn.datasets import fetch_openml\n",
    "\n",
    "mnist = fetch_openml( 'mnist_784', version=1 )\n",
    "X, y = mnist[\"data\"], mnist[\"target\"]"
   ]
  },
  {
   "cell_type": "code",
   "execution_count": 21,
   "id": "fa0fc5a0",
   "metadata": {},
   "outputs": [
    {
     "name": "stdout",
     "output_type": "stream",
     "text": [
      "(60000, 784) (60000,) (10000, 784) (60000,)\n"
     ]
    }
   ],
   "source": [
    "# 데이터 분리\n",
    "X_train = X[:60000]\n",
    "y_train = y[:60000]\n",
    "X_test = X[60000:]\n",
    "y_test = y[60000:]\n",
    "print(X_train.shape, y_train.shape, X_test.shape, y_train.shape)"
   ]
  },
  {
   "cell_type": "code",
   "execution_count": 28,
   "id": "5fdc7f4a",
   "metadata": {},
   "outputs": [
    {
     "name": "stdout",
     "output_type": "stream",
     "text": [
      "차원 축소 전\n",
      "time: 40.954177141189575\n",
      "train accuracy: 1.0\n",
      "test accuracy: 0.9691\n"
     ]
    }
   ],
   "source": [
    "# 랜덤 포레스트 분류기\n",
    "from sklearn.ensemble import RandomForestClassifier\n",
    "from sklearn.metrics import accuracy_score\n",
    "\n",
    "# 시간 측정\n",
    "import time\n",
    "start = time.time()\n",
    "\n",
    "rnd_clf = RandomForestClassifier()\n",
    "rnd_clf.fit(X_train, y_train)\n",
    "\n",
    "end = time.time()\n",
    "\n",
    "y_pred_train = rnd_clf.predict(X_train)\n",
    "y_pred_test = rnd_clf.predict(X_test)\n",
    "\n",
    "accuracy_train = accuracy_score(y_train, y_pred_train)\n",
    "accuracy_test = accuracy_score(y_test, y_pred_test)\n",
    "\n",
    "\n",
    "print(\"차원 축소 전\")\n",
    "print(\"time:\", end - start)\n",
    "print(\"train accuracy:\", accuracy_train)\n",
    "print(\"test accuracy:\", accuracy_test)"
   ]
  },
  {
   "cell_type": "code",
   "execution_count": 32,
   "id": "7727721d",
   "metadata": {},
   "outputs": [
    {
     "name": "stdout",
     "output_type": "stream",
     "text": [
      "차원 축소 후\n",
      "time: 106.66648197174072\n",
      "train accuracy: 1.0\n",
      "test accuracy: 0.9481\n"
     ]
    }
   ],
   "source": [
    "# 차원 축소 진행\n",
    "from sklearn.decomposition import PCA\n",
    "\n",
    "pca3 = PCA(n_components = 0.95)\n",
    "X_PCA_train = pca3.fit_transform(X_train)\n",
    "X_PCA_test = pca3.transform(X_test)\n",
    "\n",
    "# 시간 측정\n",
    "start = time.time()\n",
    "\n",
    "rnd_clf = RandomForestClassifier(n_estimators=100,random_state=42)\n",
    "rnd_clf.fit(X_PCA_train, y_train)\n",
    "\n",
    "end = time.time()\n",
    "\n",
    "y_pred_train = rnd_clf.predict(X_PCA_train)\n",
    "y_pred_test = rnd_clf.predict(X_PCA_test)\n",
    "\n",
    "accuracy_train = accuracy_score(y_train, y_pred_train)\n",
    "accuracy_test = accuracy_score(y_test, y_pred_test)\n",
    "\n",
    "print(\"차원 축소 후\")\n",
    "print(\"time:\", end - start)\n",
    "print(\"train accuracy:\", accuracy_train)\n",
    "print(\"test accuracy:\", accuracy_test)"
   ]
  },
  {
   "cell_type": "code",
   "execution_count": null,
   "id": "05f91596",
   "metadata": {},
   "outputs": [],
   "source": []
  }
 ],
 "metadata": {
  "kernelspec": {
   "display_name": "Python 3 (ipykernel)",
   "language": "python",
   "name": "python3"
  },
  "language_info": {
   "codemirror_mode": {
    "name": "ipython",
    "version": 3
   },
   "file_extension": ".py",
   "mimetype": "text/x-python",
   "name": "python",
   "nbconvert_exporter": "python",
   "pygments_lexer": "ipython3",
   "version": "3.8.5"
  }
 },
 "nbformat": 4,
 "nbformat_minor": 5
}
