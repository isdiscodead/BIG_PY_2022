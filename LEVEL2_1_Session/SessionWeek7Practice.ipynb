{
 "cells": [
  {
   "cell_type": "code",
   "execution_count": 1,
   "id": "231c8cf1",
   "metadata": {},
   "outputs": [],
   "source": [
    "import numpy as np\n",
    "\n",
    "A = np.matrix([[3,1,1], [-1,3,1]])\n",
    "U, s, Vt = np.linalg.svd(A) # 선형 대수 모듈\n",
    "V2 = Vt.T[:, :2] # 앞의 2개의 주성분\n",
    "A2 = A.dot(V2) "
   ]
  },
  {
   "cell_type": "code",
   "execution_count": null,
   "id": "aac046e2",
   "metadata": {},
   "outputs": [],
   "source": [
    "from sklearn.datasets import fetch_openml\n",
    "\n",
    "mnist = fetch_openml( 'mnist_784', version=1 )\n",
    "X, y = mnist[\"data\"], mnist[\"target\"]\n",
    "\n",
    "# 데이터 100개로 축소\n",
    "X_100 = X.head(100)\n",
    "y_100 = y.head(100)\n",
    "\n",
    "\n",
    "from sklearn.decomposition import PCA\n",
    "# 특이값은 최대 784개까지... n_components = 100 속성으로 설명력이 좋은 100개 값 뽑음\n",
    "pca = PCA(n_components = 100) \n",
    "X_PCA = pca.fit_transform(X_100)\n",
    "\n",
    "\n",
    "# 설명된 분산의 비율\n",
    "var = pca.explained_variance_ratio_\n",
    "var_cum = var.cumsum()\n"
   ]
  },
  {
   "cell_type": "code",
   "execution_count": null,
   "id": "c5ac8385",
   "metadata": {},
   "outputs": [],
   "source": [
    "# 0.0 ~ 1.0 사이로 설정 시 자동으로 해당 분산 비율의 차원으로 차원 축소 진행\n",
    "pca3 = PCA(n_components = 0.95)\n",
    "X_PCA3 = pca3.fit_transform(X_100)"
   ]
  }
 ],
 "metadata": {
  "kernelspec": {
   "display_name": "Python 3 (ipykernel)",
   "language": "python",
   "name": "python3"
  },
  "language_info": {
   "codemirror_mode": {
    "name": "ipython",
    "version": 3
   },
   "file_extension": ".py",
   "mimetype": "text/x-python",
   "name": "python",
   "nbconvert_exporter": "python",
   "pygments_lexer": "ipython3",
   "version": "3.8.5"
  }
 },
 "nbformat": 4,
 "nbformat_minor": 5
}
