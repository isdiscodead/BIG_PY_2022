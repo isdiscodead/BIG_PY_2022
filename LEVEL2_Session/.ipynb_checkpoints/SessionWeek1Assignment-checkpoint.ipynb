{
 "cells": [
  {
   "cell_type": "markdown",
   "metadata": {
    "id": "2zK3Gj8-e71u"
   },
   "source": [
    "# 경사 하강법 ( Gradient Descent )\n",
    "1차 근삿값 발견용 최적화 알고리즘, 함수의 기울기를 구해 경사의 반대 방향으로 계속 이동시켜 극값 찾기\n",
    "\n",
    "→ 함수의 최솟값을 찾는 데 사용됨 ( 실제 분석의 함수들은 닫힌 형태가 아니라 미분계수 계산이 어려움 )\n",
    "\n",
    "→ 데이터의 양이 매우 큰 경우 이런 iterative한 방법으로 좀 더 효율적으로 해를 구할 수 있음"
   ]
  },
  {
   "cell_type": "markdown",
   "metadata": {},
   "source": [
    "y = x^2 함수를 경사하강법을 이용해서 y값이 0.1 이하가 될 때 까지 진행한다고 할 때 x값을 몇번 갱신하는지\n",
    "(즉 x1부터 x?까지 나오는지)를 파이썬을 이용해서 풀고 결과값과 코드를 캡쳐해서 제출하시오.\n",
    "조건 : \n",
    "    1. x1 = 4\n",
    "    2. 학습률 = 0.1"
   ]
  },
  {
   "cell_type": "code",
   "execution_count": 4,
   "metadata": {
    "executionInfo": {
     "elapsed": 256,
     "status": "ok",
     "timestamp": 1648109990436,
     "user": {
      "displayName": "‍이지원[ 학부재학 / 컴퓨터융합소프트웨어학과 ]",
      "photoUrl": "https://lh3.googleusercontent.com/a-/AOh14GhB0ObNhQj97jmupEe4FXjuXCbzACeVuKfHIsAx=s64",
      "userId": "01379905428035943454"
     },
     "user_tz": -540
    },
    "id": "iS8l50xafFEw"
   },
   "outputs": [],
   "source": [
    "x1 = 4\n",
    "a = 0.1\n",
    "cnt = 1"
   ]
  },
  {
   "cell_type": "code",
   "execution_count": 6,
   "metadata": {
    "colab": {
     "base_uri": "https://localhost:8080/"
    },
    "executionInfo": {
     "elapsed": 248,
     "status": "ok",
     "timestamp": 1648110019163,
     "user": {
      "displayName": "‍이지원[ 학부재학 / 컴퓨터융합소프트웨어학과 ]",
      "photoUrl": "https://lh3.googleusercontent.com/a-/AOh14GhB0ObNhQj97jmupEe4FXjuXCbzACeVuKfHIsAx=s64",
      "userId": "01379905428035943454"
     },
     "user_tz": -540
    },
    "id": "8RwJYkKLfTTC",
    "outputId": "6b58d6ac-8179-471a-a1a7-1715e08ab990"
   },
   "outputs": [
    {
     "name": "stdout",
     "output_type": "stream",
     "text": [
      "2 3.2 10.240000000000002\n",
      "3 2.56 6.5536\n",
      "4 2.048 4.194304\n",
      "5 1.6384 2.68435456\n",
      "6 1.31072 1.7179869184000003\n",
      "7 1.0485760000000002 1.0995116277760004\n",
      "8 0.8388608000000002 0.7036874417766403\n",
      "9 0.6710886400000001 0.45035996273704976\n",
      "10 0.5368709120000001 0.2882303761517119\n",
      "11 0.4294967296000001 0.18446744073709562\n",
      "12 0.3435973836800001 0.11805916207174119\n",
      "13 0.27487790694400005 0.07555786372591435\n",
      "13\n"
     ]
    }
   ],
   "source": [
    "def dydx(x) :\n",
    "  return 2*x\n",
    "\n",
    "def f(x): \n",
    "  return x*x\n",
    "\n",
    "def gradient_descent(x1, a, cnt) :\n",
    "  x2 = x1 - a*dydx(x1)\n",
    "  cnt += 1\n",
    "  # print(cnt, x2, f(x2))\n",
    "  if (f(x2) <= 0.1) :\n",
    "    return cnt\n",
    "  else :\n",
    "    return gradient_descent(x2, a, cnt)\n",
    "\n",
    "\n",
    "print(gradient_descent(x1, a, cnt))"
   ]
  },
  {
   "cell_type": "code",
   "execution_count": null,
   "metadata": {},
   "outputs": [],
   "source": [
    "# 다른 풀이 방법 ( 해설 )\n",
    "\n",
    "# y = x^2 \n",
    "def sq(x):\n",
    "    return x**2\n",
    "\n",
    "# dy/dx = 2x\n",
    "def sqm(x) : \n",
    "    return 2*x\n",
    "\n",
    "learning_rate = 0.1\n",
    "x = 4\n",
    "x_s=[] # x값을 저장할 리스트\n",
    "y_s=[] # y값을 저장할 리스트\n",
    "\n",
    "x_s.append(x) # x값을 xs에 저장\n",
    "y_s.append(sq(x)) # y 값을 ys에 저장\n",
    "\n",
    "#경사하강법 시작\n",
    "while True:\n",
    "    x = x - (learning_rate*sqm(x))\n",
    "    x_s.append(x)\n",
    "    y_s.append(sq(x))\n",
    "    if sq(x) <= 0.1:\n",
    "        print(len(x_s))\n",
    "        break\n",
    "   \n",
    "\n",
    "# x^2그래프 만들 x값 생성\n",
    "import numpy as np\n",
    "X=np.arange(-10,10,1)    \n",
    "# 그래프 그리기\n",
    "import matplotlib.pyplot as plt\n",
    "plt.plot(X,sq(X), c ='r', label='y=x^2')\n",
    "plt.scatter(x_s,y_s, c = 'b', label='GD_Point')\n",
    "plt.xlabel('X-Axis')\n",
    "plt.ylabel('Y-Axis')\n",
    "plt.legend()\n",
    "plt.show()"
   ]
  }
 ],
 "metadata": {
  "colab": {
   "authorship_tag": "ABX9TyOw5M/ANZwyKR8h/G1z8Gji",
   "collapsed_sections": [],
   "name": "SessionWeek1Assignment.ipynb",
   "provenance": []
  },
  "kernelspec": {
   "display_name": "Python 3 (ipykernel)",
   "language": "python",
   "name": "python3"
  },
  "language_info": {
   "codemirror_mode": {
    "name": "ipython",
    "version": 3
   },
   "file_extension": ".py",
   "mimetype": "text/x-python",
   "name": "python",
   "nbconvert_exporter": "python",
   "pygments_lexer": "ipython3",
   "version": "3.8.5"
  }
 },
 "nbformat": 4,
 "nbformat_minor": 1
}
