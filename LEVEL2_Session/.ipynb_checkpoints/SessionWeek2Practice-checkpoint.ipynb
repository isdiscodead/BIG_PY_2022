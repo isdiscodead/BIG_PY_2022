{
 "cells": [
  {
   "cell_type": "markdown",
   "id": "d2d677d1",
   "metadata": {},
   "source": [
    "### MNIST 데이터 불러오기\n",
    "0~9 숫자 이미지 데이터셋"
   ]
  },
  {
   "cell_type": "code",
   "execution_count": 1,
   "id": "1facaffb",
   "metadata": {},
   "outputs": [
    {
     "name": "stdout",
     "output_type": "stream",
     "text": [
      "(70000, 784) (70000,)\n"
     ]
    }
   ],
   "source": [
    "from sklearn.datasets import fetch_openml\n",
    "mnist = fetch_openml('mnist_784', version=1, as_frame= False) # as_frame 넣어줘야 함\n",
    "X, y = mnist[\"data\"], mnist[\"target\"]\n",
    "print(X.shape, y.shape)"
   ]
  },
  {
   "cell_type": "markdown",
   "id": "37b1ab9f",
   "metadata": {},
   "source": [
    "위 코드로 불러올 수 있지만 ... 너무 오래 걸리는 것 같아서 구글링 한대로 데이터 셋 다운받는 게 낫나 ㅠㅠ "
   ]
  },
  {
   "cell_type": "code",
   "execution_count": 2,
   "id": "d9e25f8b",
   "metadata": {},
   "outputs": [],
   "source": [
    "# 데이터 가져오는 방법 차이로 인해 아래 과정 필요함\n",
    "# https://somjang.tistory.com/entry/%ED%95%B8%EC%A6%88%EC%98%A8%EB%A8%B8%EC%8B%A0%EB%9F%AC%EB%8B%9D-127%ED%8E%98%EC%9D%B4%EC%A7%80-MNIST-%EC%BD%94%EB%93%9C-ValueError-The-number-of-classes-has-to-be-greater-than-one-got-1-class-%ED%95%B4%EA%B2%B0%EB%B0%A9%EB%B2%95\n",
    "import numpy as np\n",
    "y = y.astype(np.int8)"
   ]
  },
  {
   "cell_type": "markdown",
   "id": "5d8a5d0c",
   "metadata": {},
   "source": [
    "### DATA SET 분리 ( HOLD OUT )"
   ]
  },
  {
   "cell_type": "code",
   "execution_count": 3,
   "id": "4fba98fc",
   "metadata": {},
   "outputs": [
    {
     "name": "stdout",
     "output_type": "stream",
     "text": [
      "(60000, 784) (10000, 784)\n"
     ]
    }
   ],
   "source": [
    "# 오픈 데이터이기 때문에 결측치 등은 존재 X, 랜덤으로 존재하기 때문에 그냥 슬라이싱으로도 가능 ! \n",
    "# from sklearn.model_selection import train_test_split\n",
    "# x_train, x_test, y_train, y_test = train_test_split(X, y, test_size=0.2, shuffle=True, stratify=target, random_state=34)\n",
    "x_train, x_test, y_train, y_test = X[:60000], X[60000:], y[:60000], y[60000:]\n",
    "print(x_train.shape,x_test.shape)"
   ]
  },
  {
   "cell_type": "markdown",
   "id": "6bba9539",
   "metadata": {},
   "source": [
    "## I. 이진 분류\n",
    "두 개의 클래스를 구분하는 분류 방식 → YES or NO !"
   ]
  },
  {
   "cell_type": "code",
   "execution_count": 4,
   "id": "88d802b7",
   "metadata": {},
   "outputs": [],
   "source": [
    "y_train_5 = (y_train == 5) # 5일 때만 True \n",
    "y_test_5 = (y_test == 5)"
   ]
  },
  {
   "cell_type": "markdown",
   "id": "2f3dfb83",
   "metadata": {},
   "source": [
    "### SGD 분류기로 학습하기\n",
    "-> 선형 분류기의 한 종류로, 확률적경사하강법을 이용함"
   ]
  },
  {
   "cell_type": "code",
   "execution_count": 6,
   "id": "4e69c7fe",
   "metadata": {},
   "outputs": [
    {
     "data": {
      "text/plain": [
       "SGDClassifier(random_state=42)"
      ]
     },
     "execution_count": 6,
     "metadata": {},
     "output_type": "execute_result"
    }
   ],
   "source": [
    "from sklearn.linear_model import SGDClassifier\n",
    "\n",
    "sgd_clf = SGDClassifier(random_state=42)\n",
    "sgd_clf.fit(x_train, y_train_5)"
   ]
  },
  {
   "cell_type": "code",
   "execution_count": 7,
   "id": "35f6e621",
   "metadata": {},
   "outputs": [
    {
     "name": "stdout",
     "output_type": "stream",
     "text": [
      "[ True]\n"
     ]
    }
   ],
   "source": [
    "some_digit = X[0] # 5를 나타내는 784개의 픽셀 값 ( x )\n",
    "print(sgd_clf.predict([some_digit])) # 학습 결과로 예측된 y값"
   ]
  },
  {
   "cell_type": "markdown",
   "id": "dd1cda1c",
   "metadata": {},
   "source": [
    "### K-Cross Validation"
   ]
  },
  {
   "cell_type": "code",
   "execution_count": 8,
   "id": "ba0afca2",
   "metadata": {},
   "outputs": [
    {
     "name": "stdout",
     "output_type": "stream",
     "text": [
      "[0.95035 0.96035 0.9604 ]\n"
     ]
    }
   ],
   "source": [
    "from sklearn.model_selection import cross_val_score\n",
    "print(cross_val_score(sgd_clf, x_train, y_train_5, cv=3, scoring=\"accuracy\"))"
   ]
  },
  {
   "cell_type": "markdown",
   "id": "b0cc41f7",
   "metadata": {},
   "source": [
    "### Confusion Matrix ( 오차행렬 )"
   ]
  },
  {
   "cell_type": "code",
   "execution_count": 11,
   "id": "f41f4902",
   "metadata": {},
   "outputs": [
    {
     "name": "stdout",
     "output_type": "stream",
     "text": [
      "[[53892   687]\n",
      " [ 1891  3530]]\n"
     ]
    }
   ],
   "source": [
    "from sklearn.model_selection import cross_val_predict\n",
    "y_train_pred = cross_val_predict(sgd_clf, x_train, y_train_5, cv=3)\n",
    "\n",
    "from sklearn.metrics import confusion_matrix\n",
    "cm = confusion_matrix(y_train_5, y_train_pred) # 원본과 예측 값 전달\n",
    "print(cm)"
   ]
  },
  {
   "cell_type": "markdown",
   "id": "ab1f8ea0",
   "metadata": {},
   "source": [
    "## 다중 분류 : SVCM으로 구현하기 "
   ]
  },
  {
   "cell_type": "code",
   "execution_count": 15,
   "id": "90a65f8b",
   "metadata": {},
   "outputs": [
    {
     "name": "stdout",
     "output_type": "stream",
     "text": [
      "[5]\n"
     ]
    }
   ],
   "source": [
    "from sklearn.svm import SVC\n",
    "svm_clf = SVC()\n",
    "svm_clf.fit(x_train, y_train)\n",
    "print(svm_clf.predict([some_digit])) #5"
   ]
  },
  {
   "cell_type": "code",
   "execution_count": 16,
   "id": "4cd1bf02",
   "metadata": {},
   "outputs": [
    {
     "name": "stdout",
     "output_type": "stream",
     "text": [
      "[[ 1.72501977  2.72809088  7.2510018   8.3076379  -0.31087254  9.3132482\n",
      "   1.70975103  2.76765202  6.23049537  4.84771048]]\n"
     ]
    }
   ],
   "source": [
    "print(svm_clf.decision_function([some_digit]))"
   ]
  },
  {
   "cell_type": "code",
   "execution_count": 24,
   "id": "e7b4b7ce",
   "metadata": {},
   "outputs": [
    {
     "name": "stdout",
     "output_type": "stream",
     "text": [
      "[[5863    3   10    2    4    8   14    2   13    4]\n",
      " [   1 6664   26    9   10    1    3   10   10    8]\n",
      " [  19    9 5811   16   26    5    8   30   28    6]\n",
      " [   3    9   54 5891    2   62    1   30   61   18]\n",
      " [   5   11   13    0 5712    0   20    9    4   68]\n",
      " [  11    6   10   57   14 5255   35    4   17   12]\n",
      " [  20    8    7    0   10   32 5831    0   10    0]\n",
      " [   5   21   42    6   35    2    1 6100    7   46]\n",
      " [   8   29   19   38   20   39   21    9 5646   22]\n",
      " [  14   11    4   31   72   16    2   59   19 5721]]\n"
     ]
    }
   ],
   "source": [
    "# 에러 분석을 위한 confusion matrix\n",
    "y_train_pred = cross_val_predict(svm_clf, x_train, y_train, cv=3)\n",
    "conf_mx = confusion_matrix(y_train, y_train_pred)\n",
    "print(conf_mx)"
   ]
  },
  {
   "cell_type": "markdown",
   "id": "e6781f5c",
   "metadata": {},
   "source": [
    "## 다중 레이블 분류 : KNN"
   ]
  },
  {
   "cell_type": "code",
   "execution_count": 26,
   "id": "03a8b9df",
   "metadata": {},
   "outputs": [
    {
     "data": {
      "text/plain": [
       "array([[False,  True]])"
      ]
     },
     "execution_count": 26,
     "metadata": {},
     "output_type": "execute_result"
    }
   ],
   "source": [
    "from sklearn.neighbors import KNeighborsClassifier\n",
    "\n",
    "# 타겟 벡터 변경\n",
    "# 벡터 = 시리즈\n",
    "y_train_large = (y_train >= 7) # 7 이상이면 True \n",
    "y_train_odd = (y_train%2 == 1) # 홀수이면 True\n",
    "\n",
    "# c_는 column형으로 생성 \n",
    "y_multilabel = np.c_[y_train_large, y_train_odd]\n",
    "\n",
    "knn_clf = KNeighborsClassifier()\n",
    "knn_clf.fit(x_train, y_multilabel)\n",
    "\n",
    "knn_clf.predict([some_digit]) # 7 이상 False, 홀수 True"
   ]
  }
 ],
 "metadata": {
  "kernelspec": {
   "display_name": "Python 3 (ipykernel)",
   "language": "python",
   "name": "python3"
  },
  "language_info": {
   "codemirror_mode": {
    "name": "ipython",
    "version": 3
   },
   "file_extension": ".py",
   "mimetype": "text/x-python",
   "name": "python",
   "nbconvert_exporter": "python",
   "pygments_lexer": "ipython3",
   "version": "3.8.5"
  }
 },
 "nbformat": 4,
 "nbformat_minor": 5
}
