{
 "cells": [
  {
   "cell_type": "markdown",
   "id": "46e8d0a0",
   "metadata": {},
   "source": [
    "### 회귀\n",
    "독립변수 x -> 연속형 종속변수 y 예측\n",
    "1. **선형회귀** ( 단순, 다중 )\n",
    "2. **다항회귀** -> 고차원\n",
    "3. **규제가 있는 회귀** ( 라쏘, 릿지, 엘라스틱넷 ) -> 비용 함수\n",
    "4. **로지스틱 회귀** ( 분류와 비슷 )"
   ]
  },
  {
   "cell_type": "code",
   "execution_count": 50,
   "id": "48ce84a6",
   "metadata": {},
   "outputs": [],
   "source": [
    "import numpy as np"
   ]
  },
  {
   "cell_type": "markdown",
   "id": "1c61a6d8",
   "metadata": {},
   "source": [
    "### 회귀 계수 구하기 : 최소 제곱법"
   ]
  },
  {
   "cell_type": "code",
   "execution_count": 51,
   "id": "74906ebf",
   "metadata": {},
   "outputs": [
    {
     "name": "stdout",
     "output_type": "stream",
     "text": [
      "[6975.15 9234.4  9245.5  7999.2  8773.68 7960.36 9086.04]\n",
      "[23500.89 27192.01 28257.61 22952.25 24900.84 24554.89 25953.21]\n",
      "159.05714285714288 53.15714285714286\n"
     ]
    }
   ],
   "source": [
    "# 독립 변수, 종속 변수 입력\n",
    "X = np.array([153.3, 164.9, 168.1, 151.5, 157.8, 156.7, 161.1])\n",
    "y = np.array([45.5, 56.0, 55.0, 52.8, 55.6, 50.8, 56.4])\n",
    "\n",
    "# 공식에 필요한 값 입력\n",
    "xy = X*y # dot이 아닌 *는 각각의 index에서 계산하게 됨\n",
    "x_square = X*X\n",
    "x_mean = np.mean(X)\n",
    "y_mean = np.mean(y)\n",
    "\n",
    "print(xy)\n",
    "print(x_square)\n",
    "print(x_mean, y_mean)"
   ]
  },
  {
   "cell_type": "code",
   "execution_count": 52,
   "id": "224ebab7",
   "metadata": {},
   "outputs": [
    {
     "name": "stdout",
     "output_type": "stream",
     "text": [
      "-12.057393223598368 0.41000696296496186\n"
     ]
    }
   ],
   "source": [
    "# 회귀 계수 구하기\n",
    "n = len(X)\n",
    "\n",
    "theta_1 = (np.sum(xy) - n*x_mean*y_mean) / (np.sum(x_square) - n*x_mean*x_mean)\n",
    "theta_0 = y_mean - theta_1*x_mean\n",
    "\n",
    "print(theta_0, theta_1)"
   ]
  },
  {
   "cell_type": "markdown",
   "id": "9bd0427f",
   "metadata": {},
   "source": [
    "### 회귀 계수 구하기 : 정규 방정식"
   ]
  },
  {
   "cell_type": "code",
   "execution_count": 53,
   "id": "27225461",
   "metadata": {},
   "outputs": [
    {
     "name": "stdout",
     "output_type": "stream",
     "text": [
      "[-12.05739322   0.41000696]\n"
     ]
    }
   ],
   "source": [
    "# x값 바꿔주기\n",
    "one = np.ones([7, 1]) # 7*1 shape의 1로 찬 배열 생성\n",
    "X_b = np.c_[one, X] # 7*2 shape으로 1, xi 배열 생성\n",
    "\n",
    "# 정규 방정식으로 회귀 계수 계산\n",
    "# A*B*C = A.dot(B).dot(C)\n",
    "# A-1 = np.linalg.inv(A)\n",
    "# AT = A.T\n",
    "theta_NE = np.linalg.inv(X_b.T.dot(X_b)).dot(X_b.T).dot(y)\n",
    "print(theta_NE)"
   ]
  },
  {
   "cell_type": "markdown",
   "id": "faff1ba1",
   "metadata": {},
   "source": [
    "### 회귀 계수 구하기 : sklearn - LinearRegression"
   ]
  },
  {
   "cell_type": "code",
   "execution_count": 54,
   "id": "5dc18c31",
   "metadata": {},
   "outputs": [
    {
     "name": "stdout",
     "output_type": "stream",
     "text": [
      "[-12.05739322] [[0.41000696]]\n"
     ]
    }
   ],
   "source": [
    "X = X.reshape((7, 1)) # X.shape = (7, )이므로 계산 가능하게 변경\n",
    "y = y.reshape((7, 1))\n",
    "\n",
    "from sklearn.linear_model import LinearRegression\n",
    "lin_reg = LinearRegression()\n",
    "lin_reg.fit(X, y)\n",
    "\n",
    "# 계수 확인\n",
    "print(lin_reg.intercept_, lin_reg.coef_)"
   ]
  },
  {
   "cell_type": "markdown",
   "id": "4baebeeb",
   "metadata": {},
   "source": [
    "## 경사 하강법"
   ]
  },
  {
   "cell_type": "markdown",
   "id": "7be03442",
   "metadata": {},
   "source": [
    "### 1. 배치 경사 하강법\n",
    "경사 하강법의 매 스텝에서 전체 훈련 세트 X에 대해 계산하는 알고리즘"
   ]
  },
  {
   "cell_type": "code",
   "execution_count": 55,
   "id": "fc496648",
   "metadata": {},
   "outputs": [],
   "source": [
    "# 임의로 Data 생성\n",
    "X = 2 * np.random.rand(100, 1) # 0~2 사이의 균등한 난수 100개\n",
    "y = 4 + 3*X + np.random.randn(100, 1) # y = 4+3x + 가우시안블러(표준정규분포로 뽑은 난수 100개)\n",
    "\n",
    "# x값 바꿔주기\n",
    "one = np.ones([100, 1]) # 7*1 shape의 1로 찬 배열 생성\n",
    "X_b = np.c_[one, X] # 7*2 shape으로 1, xi 배열 생성"
   ]
  },
  {
   "cell_type": "code",
   "execution_count": 56,
   "id": "d442026a",
   "metadata": {},
   "outputs": [
    {
     "name": "stdout",
     "output_type": "stream",
     "text": [
      "[[3.71928792 3.13971001]]\n"
     ]
    }
   ],
   "source": [
    "learning_rate = 0.01\n",
    "n_epoch = 3000\n",
    "n = len(X)\n",
    "\n",
    "theta_GD = np.random.rand(2, 1) # 0~1의 값 2개\n",
    "for epoch in range(n_epoch):\n",
    "    gradients = (2/n) * X_b.T.dot( X_b.dot(theta_GD)-y )\n",
    "    theta_GD = theta_GD - learning_rate * gradients\n",
    "print(theta_GD.T)"
   ]
  },
  {
   "cell_type": "markdown",
   "id": "c8b9f27d",
   "metadata": {},
   "source": [
    "### 2. 확률적 경사 하강법 \n",
    "매 스텝에서 한 개의 샘플을 무작위 선택, 그 하나의 샘플에 대한 gradient 계산 → batch size = 1"
   ]
  },
  {
   "cell_type": "code",
   "execution_count": 57,
   "id": "ae3c9d89",
   "metadata": {},
   "outputs": [
    {
     "name": "stdout",
     "output_type": "stream",
     "text": [
      "[[3.9815983 ]\n",
      " [2.85776523]]\n"
     ]
    }
   ],
   "source": [
    "n_epochs = 50\n",
    "n = len(X) # 100\n",
    "theta = np.random.randn(2,1)\n",
    "\n",
    "for epoch in range(n_epochs):\n",
    "    for i in range(n):\n",
    "        # 랜덤 샘플 지정\n",
    "        random_index = np.random.randint(n)\n",
    "        xi = X_b[random_index].reshape(2,1).T\n",
    "        yi = y[random_index].reshape(1,1)\n",
    "        gradients = 2 * xi.T.dot( xi.dot(theta)-yi )\n",
    "        eta = 0.1 # 학습률\n",
    "        theta = theta - eta * gradients\n",
    "        \n",
    "print(theta) # 값이 조금 다른 것을 확인할 수 있음 ( 실행마다 값도 다름 )"
   ]
  },
  {
   "cell_type": "code",
   "execution_count": 58,
   "id": "563222de",
   "metadata": {},
   "outputs": [
    {
     "name": "stdout",
     "output_type": "stream",
     "text": [
      "(2, 1)\n"
     ]
    },
    {
     "data": {
      "image/png": "[encoded data removed]",
      "text/plain": [
       "<Figure size 432x288 with 1 Axes>"
      ]
     },
     "metadata": {
      "needs_background": "light"
     },
     "output_type": "display_data"
    }
   ],
   "source": [
    "# 값이 튀는 것을 확인하기 위해 회귀계수 경로\n",
    "theta_s = np.zeros((2,1))\n",
    "n_epochs = 50\n",
    "n = len(X)\n",
    "theta = np.random.randn(2,1)\n",
    "print(theta.shape)\n",
    "\n",
    "for epoch in range(n_epochs) :\n",
    "    for i in range(n) :\n",
    "        random_index = np.random.randint(n)\n",
    "        xi = X_b[random_index].reshape(1,2)\n",
    "        yi = y[random_index].reshape(1,1)\n",
    "        gradients = 2 * xi.T.dot(xi.dot(theta)-yi)\n",
    "        eta = 0.1\n",
    "        theta_s = np.append(theta_s, theta, axis=1)\n",
    "        theta = theta - eta * gradients\n",
    "        \n",
    "theta_s = np.delete(theta_s, 0, axis=1)\n",
    "\n",
    "import matplotlib.pyplot as plt\n",
    "\n",
    "plt.plot(theta_s[0], theta_s[1])\n",
    "plt.show()\n",
    "        "
   ]
  },
  {
   "cell_type": "code",
   "execution_count": 59,
   "id": "9ee42651",
   "metadata": {},
   "outputs": [
    {
     "data": {
      "text/plain": [
       "[<matplotlib.lines.Line2D at 0x7fb866d3e2e0>]"
      ]
     },
     "execution_count": 59,
     "metadata": {},
     "output_type": "execute_result"
    },
    {
     "data": {
      "image/png": "[encoded data removed]",
      "text/plain": [
       "<Figure size 432x288 with 1 Axes>"
      ]
     },
     "metadata": {
      "needs_background": "light"
     },
     "output_type": "display_data"
    }
   ],
   "source": [
    "t0, t1 = 5, 50\n",
    "\n",
    "def learning_schedule(t) :\n",
    "    return t0 / ( t + t1 )\n",
    "\n",
    "ls_s = []\n",
    "\n",
    "for i in range(100):\n",
    "    ls_s.append(learning_schedule(i))\n",
    "\n",
    "plt.plot(ls_s) # t가 증가할수록 학습률이 감소"
   ]
  },
  {
   "cell_type": "code",
   "execution_count": 60,
   "id": "f125d7ab",
   "metadata": {},
   "outputs": [
    {
     "name": "stdout",
     "output_type": "stream",
     "text": [
      "[[3.7537519 ]\n",
      " [3.21843334]]\n"
     ]
    }
   ],
   "source": [
    "n_epochs = 50\n",
    "n = len(X) # 100\n",
    "theta = np.random.randn(2,1)\n",
    "\n",
    "for epoch in range(n_epochs):\n",
    "    for i in range(n):\n",
    "        # 랜덤 샘플 지정\n",
    "        random_index = np.random.randint(n)\n",
    "        xi = X_b[random_index].reshape(2,1).T\n",
    "        yi = y[random_index].reshape(1,1)\n",
    "        gradients = 2 * xi.T.dot( xi.dot(theta)-yi )\n",
    "        eta = learning_schedule(epoch * n + i) # 학습이 진행될수록 학습률 감소\n",
    "        theta = theta - eta * gradients\n",
    "        \n",
    "print(theta) # 값이 안정적으로 변경됨"
   ]
  },
  {
   "cell_type": "markdown",
   "id": "ddb6ee6b",
   "metadata": {},
   "source": [
    "### 3. 미니 배치 경사 하강법\n",
    "매 스텝에서 미니배치라고 불리는 하나의 샘플에 대한 gradient를 계산하는 방법"
   ]
  },
  {
   "cell_type": "code",
   "execution_count": 157,
   "id": "240c23c9",
   "metadata": {},
   "outputs": [
    {
     "name": "stdout",
     "output_type": "stream",
     "text": [
      "[[3.7537519 ]\n",
      " [3.21843334]]\n"
     ]
    },
    {
     "data": {
      "image/png": "[encoded data removed]",
      "text/plain": [
       "<Figure size 432x288 with 1 Axes>"
      ]
     },
     "metadata": {
      "needs_background": "light"
     },
     "output_type": "display_data"
    }
   ],
   "source": [
    "# 배치 사이즈=20 / epoch=50 / learning rate = 0.05\n",
    "# 그래프 시각화까지 할 것 ! \n",
    "X = 2 * np.random.rand(100, 1)\n",
    "y = 4 + 3 * X + np.random.randn(100, 1)\n",
    "\n",
    "# x값 바꿔주기\n",
    "one = np.ones([100, 1]) # 7*1 shape의 1로 찬 배열 생성\n",
    "X_b = np.c_[one, X] # 7*2 shape으로 1, xi 배열 생성\n",
    "\n",
    "n_epochs = 500\n",
    "n = len(X)\n",
    "eta = 0.001\n",
    "batch_size = 20\n",
    "iter_n = int(n/batch_size)\n",
    "idx = 0\n",
    "\n",
    "# 그래프 출력을 위한 변수\n",
    "theta_s = np.zeros((2,1))\n",
    "\n",
    "theta_GD = np.random.rand(2, 1) # 0~1의 값 2개\n",
    "for epoch in range(n_epochs) :\n",
    "    for i in range(iter_n):\n",
    "        # np.random.shuffle은 기존의 배열을 변경\n",
    "        # np.random.permutation은 섞은 배열 새로 생성 \n",
    "        idx = np.arange(X_b.shape[0])\n",
    "        np.random.shuffle(idx)\n",
    "\n",
    "        X_b_shuffled = X_b[idx][:batch_size]\n",
    "        y_shuffled = y[idx][:batch_size]\n",
    "        \n",
    "        gradients = (2/batch_size) * X_b_shuffled.T.dot( X_b_shuffled.dot(theta_GD)-y_shuffled )\n",
    "        theta_GD = theta_GD - eta * gradients\n",
    "        theta_s = np.append(theta_s, theta_GD, axis=1)\n",
    "        \n",
    "print(theta)\n",
    "theta_s = np.delete(theta_s, 0, axis=1) # 0인 값 제외 \n",
    "\n",
    "# 그래프 그리기 \n",
    "import matplotlib.pyplot as plt\n",
    "\n",
    "plt.plot(theta_s[0], theta_s[1])\n",
    "plt.show()"
   ]
  },
  {
   "cell_type": "code",
   "execution_count": null,
   "id": "0b3be8ca",
   "metadata": {},
   "outputs": [],
   "source": []
  }
 ],
 "metadata": {
  "kernelspec": {
   "display_name": "Python 3 (ipykernel)",
   "language": "python",
   "name": "python3"
  },
  "language_info": {
   "codemirror_mode": {
    "name": "ipython",
    "version": 3
   },
   "file_extension": ".py",
   "mimetype": "text/x-python",
   "name": "python",
   "nbconvert_exporter": "python",
   "pygments_lexer": "ipython3",
   "version": "3.8.5"
  }
 },
 "nbformat": 4,
 "nbformat_minor": 5
}
