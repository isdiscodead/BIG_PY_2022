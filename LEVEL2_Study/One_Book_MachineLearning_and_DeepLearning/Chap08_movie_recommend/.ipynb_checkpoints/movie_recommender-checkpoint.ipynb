{
 "cells": [
  {
   "cell_type": "code",
   "execution_count": 2,
   "id": "d3394f8c",
   "metadata": {},
   "outputs": [],
   "source": [
    "import json\n",
    "import numpy as np"
   ]
  },
  {
   "cell_type": "markdown",
   "id": "b9000bbd",
   "metadata": {},
   "source": [
    "### 유사성 점수 계산 함수"
   ]
  },
  {
   "cell_type": "code",
   "execution_count": 1,
   "id": "7fcc20df",
   "metadata": {},
   "outputs": [],
   "source": [
    "# 사용자 1과 사용자 2 간의 피어슨 상관관계 점수 계산\n",
    "def pearson_score(dataset, user1, user2):\\\n",
    "\t\t# 마찬가지로 사용자가 없다면 오류 발생\n",
    "    if user1 not in dataset:\n",
    "        raise TypeError('Cannot find ' + user1 + ' in the dataset')\n",
    "\n",
    "    if user2 not in dataset:\n",
    "        raise TypeError('Cannot find ' + user2 + ' in the dataset')\n",
    "\n",
    "    # 사용자 1과 사용자 2가 평가한 영화 추적 \n",
    "    common_movies = {}\n",
    "\n",
    "    for item in dataset[user1]:\n",
    "        if item in dataset[user2]:\n",
    "            common_movies[item] = 1\n",
    "\n",
    "    num_ratings = len(common_movies) \n",
    "\n",
    "    # 공통으로 평가한 영화가 없다면 유사성 점수 = 0\n",
    "    if num_ratings == 0:\n",
    "        return 0\n",
    "\n",
    "    # 두 사용자 모두가 평가한 영화의 평점의 합을 각각 계산\n",
    "    user1_sum = np.sum([dataset[user1][item] for item in common_movies])\n",
    "    user2_sum = np.sum([dataset[user2][item] for item in common_movies])\n",
    "\n",
    "    # 마찬가지로 공통된 영화의 평점 제곱의 합을 각각 계산\n",
    "    user1_squared_sum = np.sum([np.square(dataset[user1][item]) for item in common_movies])\n",
    "    user2_squared_sum = np.sum([np.square(dataset[user2][item]) for item in common_movies])\n",
    "\n",
    "    # 공통 영화에 대한 두 유저의 평점 곱의 합을 계산\n",
    "    sum_of_products = np.sum([dataset[user1][item] * dataset[user2][item] for item in common_movies])\n",
    "\n",
    "    # 위의 값들을 통해 피어슨 상관관계 점수 계산\n",
    "    Sxy = sum_of_products - (user1_sum * user2_sum / num_ratings)\n",
    "    Sxx = user1_squared_sum - np.square(user1_sum) / num_ratings\n",
    "    Syy = user2_squared_sum - np.square(user2_sum) / num_ratings\n",
    "    \n",
    "\t\t# 편차가 없다면 점수 = 0\n",
    "    if Sxx * Syy == 0:\n",
    "        return 0\n",
    "\t\t\n",
    "\t\t# 피어슨 점수 반환\n",
    "    return Sxy / np.sqrt(Sxx * Syy)"
   ]
  },
  {
   "cell_type": "markdown",
   "id": "5e0c6379",
   "metadata": {},
   "source": [
    "### 협업 필터링 함수 "
   ]
  },
  {
   "cell_type": "code",
   "execution_count": 3,
   "id": "1b897740",
   "metadata": {},
   "outputs": [],
   "source": [
    "# 데이터 세트에서 input 사용자와 유사한 사용자 탐색하는 함수 \n",
    "def find_similar_users(dataset, user, num_users):\n",
    "    if user not in dataset:\n",
    "        raise TypeError('Cannot find ' + user + ' in the dataset')\n",
    "\n",
    "    # input 사용자와 데이터 세트 내의 모든 사용자 간의 피어슨 점수 계산 \n",
    "    scores = np.array([[x, pearson_score(dataset, user, \n",
    "            x)] for x in dataset if x != user])\n",
    "\n",
    "    # 내림차순으로 점수 정렬\n",
    "    scores_sorted = np.argsort(scores[:, 1])[::-1]\n",
    "\n",
    "    # 상위 'num_users' 개의 점수를 추출 후 return \n",
    "    top_users = scores_sorted[:num_users] \n",
    "    return scores[top_users] "
   ]
  },
  {
   "cell_type": "markdown",
   "id": "3def2a51",
   "metadata": {},
   "source": [
    "### 영화 추천 시스템"
   ]
  },
  {
   "cell_type": "code",
   "execution_count": 7,
   "id": "6d6298c5",
   "metadata": {},
   "outputs": [],
   "source": [
    "# input_user에 대한 영화 추천 진행 \n",
    "def get_recommendations(dataset, input_user):\n",
    "    if input_user not in dataset:\n",
    "        raise TypeError('Cannot find ' + input_user + ' in the dataset')\n",
    "\n",
    "    overall_scores = {}\n",
    "    similarity_scores = {}\n",
    "    \n",
    "    # input_user 제외 모든 유저에 대해서 유사성 점수 계산 \n",
    "    for user in [x for x in dataset if x != input_user]:\n",
    "        similarity_score = pearson_score(dataset, input_user, user)\n",
    "        \n",
    "        # 유사성 점수가 0이라면 pass\n",
    "        if similarity_score <= 0:\n",
    "            continue\n",
    "        \n",
    "        # 현재 사용자가 평가했지만 입력 사용자는 평가하지 않은 영화 추출\n",
    "        filtered_list = [x for x in dataset[user] if x not in \\\n",
    "                dataset[input_user] or dataset[input_user][x] == 0]\n",
    "\n",
    "        # 필터링한 영화 목록 내 항목에 대해 유사성 점수를 기반으로 가중치가 부여된 평점, 유사성 점수 추적\n",
    "        for item in filtered_list: \n",
    "            overall_scores.update({item: dataset[user][item] * similarity_score})\n",
    "            similarity_scores.update({item: similarity_score})\n",
    "\n",
    "    # 평점을 낼 내용이 없다면 추천 불가능 \n",
    "    if len(overall_scores) == 0:\n",
    "        return ['No recommendations possible']\n",
    "\n",
    "    # 정규화에 의해 영화 순위 생성 \n",
    "    movie_scores = np.array([[score/similarity_scores[item], item] \n",
    "            for item, score in overall_scores.items()])\n",
    "\n",
    "    # 내림차순으로 점수 정렬 \n",
    "    movie_scores = movie_scores[np.argsort(movie_scores[:, 0])[::-1]]\n",
    "\n",
    "    # 영화 추천 추출\n",
    "    movie_recommendations = [movie for _, movie in movie_scores]\n",
    "\n",
    "    return movie_recommendations\n"
   ]
  },
  {
   "cell_type": "code",
   "execution_count": 10,
   "id": "02a7bad2",
   "metadata": {},
   "outputs": [
    {
     "name": "stdout",
     "output_type": "stream",
     "text": [
      "\n",
      "Movie recommendations for Chris Duncan:\n",
      "1. Vertigo\n",
      "2. Scarface\n",
      "3. Goodfellas\n",
      "4. Roman Holiday\n"
     ]
    }
   ],
   "source": [
    "\n",
    "user = \"Chris Duncan\"\n",
    "ratings_file = 'ratings.json'\n",
    "\n",
    "with open(ratings_file, 'r') as f:\n",
    "    data = json.loads(f.read())\n",
    "\n",
    "print(\"\\nMovie recommendations for \" + user + \":\")\n",
    "movies = get_recommendations(data, user) \n",
    "for i, movie in enumerate(movies):\n",
    "    print(str(i+1) + '. ' + movie)"
   ]
  },
  {
   "cell_type": "code",
   "execution_count": 11,
   "id": "cf8090d5",
   "metadata": {},
   "outputs": [
    {
     "name": "stdout",
     "output_type": "stream",
     "text": [
      "\n",
      "Movie recommendations for Julie Hammel:\n",
      "1. The Apartment\n",
      "2. Vertigo\n",
      "3. Raging Bull\n"
     ]
    }
   ],
   "source": [
    "user = \"Julie Hammel\"\n",
    "\n",
    "print(\"\\nMovie recommendations for \" + user + \":\")\n",
    "movies = get_recommendations(data, user) \n",
    "for i, movie in enumerate(movies):\n",
    "    print(str(i+1) + '. ' + movie)"
   ]
  }
 ],
 "metadata": {
  "kernelspec": {
   "display_name": "Python 3 (ipykernel)",
   "language": "python",
   "name": "python3"
  },
  "language_info": {
   "codemirror_mode": {
    "name": "ipython",
    "version": 3
   },
   "file_extension": ".py",
   "mimetype": "text/x-python",
   "name": "python",
   "nbconvert_exporter": "python",
   "pygments_lexer": "ipython3",
   "version": "3.8.5"
  }
 },
 "nbformat": 4,
 "nbformat_minor": 5
}
