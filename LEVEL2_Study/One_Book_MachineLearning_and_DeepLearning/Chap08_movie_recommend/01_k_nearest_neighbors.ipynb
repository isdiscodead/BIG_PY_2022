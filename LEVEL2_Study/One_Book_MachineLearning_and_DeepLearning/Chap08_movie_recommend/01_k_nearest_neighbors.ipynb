{
 "cells": [
  {
   "cell_type": "markdown",
   "id": "942e0cd1",
   "metadata": {},
   "source": [
    "## 💜 최근접 이웃 추출\n",
    "\n",
    "최근접 이웃( nearest neighbor ) → 입력 포인트에 가장 가까운 데이터 포인트 찾기"
   ]
  },
  {
   "cell_type": "code",
   "execution_count": 1,
   "id": "5b62bd5f",
   "metadata": {},
   "outputs": [
    {
     "name": "stdout",
     "output_type": "stream",
     "text": [
      "\n",
      "K Nearest Neighbors:\n",
      "1 ==> [5.1 2.2]\n",
      "2 ==> [3.8 3.7]\n",
      "3 ==> [3.4 1.9]\n",
      "4 ==> [2.9 2.5]\n",
      "5 ==> [5.7 3.5]\n"
     ]
    },
    {
     "data": {
      "image/png": "[encoded data removed]",
      "text/plain": [
       "<Figure size 432x288 with 1 Axes>"
      ]
     },
     "metadata": {
      "needs_background": "light"
     },
     "output_type": "display_data"
    },
    {
     "data": {
      "image/png": "[encoded data removed]",
      "text/plain": [
       "<Figure size 432x288 with 1 Axes>"
      ]
     },
     "metadata": {
      "needs_background": "light"
     },
     "output_type": "display_data"
    }
   ],
   "source": [
    "import numpy as np\n",
    "import matplotlib.pyplot as plt\n",
    "from sklearn.neighbors import NearestNeighbors\n",
    "\n",
    "# 샘플 2D 데이터 포인트 정의\n",
    "X = np.array([[2.1, 1.3], [1.3, 3.2], [2.9, 2.5], [2.7, 5.4], [3.8, 0.9], \n",
    "        [7.3, 2.1], [4.2, 6.5], [3.8, 3.7], [2.5, 4.1], [3.4, 1.9],\n",
    "        [5.7, 3.5], [6.1, 4.3], [5.1, 2.2], [6.2, 1.1]])\n",
    "\n",
    "# 최근접 이웃 수\n",
    "k = 5\n",
    "\n",
    "# K-최근접 이웃 추출 시 사용할 테스트 데이터 포인트 정의\n",
    "test_datapoint = [4.3, 2.7]\n",
    "\n",
    "# 입력 데이터 그래프\n",
    "plt.figure()\n",
    "plt.title('Input data')\n",
    "plt.scatter(X[:,0], X[:,1], marker='o', s=75, color='black')\n",
    "\n",
    "# K-최근접 이웃 모델 생성 및 훈련\n",
    "knn_model = NearestNeighbors(n_neighbors=k, algorithm='ball_tree').fit(X)\n",
    "distances, indices = knn_model.kneighbors([test_datapoint])\n",
    "\n",
    "# 모델에서 추출한 최근접 이웃 k개 출력\n",
    "print(\"\\nK Nearest Neighbors:\")\n",
    "for rank, index in enumerate(indices[0][:k], start=1):\n",
    "    print(str(rank) + \" ==>\", X[index])\n",
    "\n",
    "# 테스트 데이터 포인트와 최근접 이웃 시각화\n",
    "plt.figure()\n",
    "plt.title('Nearest neighbors')\n",
    "plt.scatter(X[:, 0], X[:, 1], marker='o', s=75, color='k')\n",
    "plt.scatter(X[indices][0][:][:, 0], X[indices][0][:][:, 1], \n",
    "        marker='o', s=250, color='k', facecolors='none')\n",
    "plt.scatter(test_datapoint[0], test_datapoint[1],\n",
    "        marker='x', s=75, color='k')\n",
    "\n",
    "plt.show()"
   ]
  },
  {
   "cell_type": "code",
   "execution_count": null,
   "id": "280da323",
   "metadata": {},
   "outputs": [],
   "source": []
  }
 ],
 "metadata": {
  "kernelspec": {
   "display_name": "Python 3 (ipykernel)",
   "language": "python",
   "name": "python3"
  },
  "language_info": {
   "codemirror_mode": {
    "name": "ipython",
    "version": 3
   },
   "file_extension": ".py",
   "mimetype": "text/x-python",
   "name": "python",
   "nbconvert_exporter": "python",
   "pygments_lexer": "ipython3",
   "version": "3.8.5"
  }
 },
 "nbformat": 4,
 "nbformat_minor": 5
}
