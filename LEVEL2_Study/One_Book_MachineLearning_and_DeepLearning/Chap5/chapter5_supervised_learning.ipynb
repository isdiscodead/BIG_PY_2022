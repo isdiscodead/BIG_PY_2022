{
 "cells": [
  {
   "cell_type": "markdown",
   "id": "46de0cbc",
   "metadata": {},
   "source": [
    "### `지도 학습( Supervised Learning )`\n",
    "\n",
    "→ 레이블이 지정된 훈련 데이터 기반으로 모델 구축 \n",
    "\n",
    "- 각 행은 `입력 변수`와 원하는 `대상 변수`로 구성됨\n",
    "- ex ) 타이타닉 데이터의 성별, 나이, 객실 클래스 → 승객의 생존 여부"
   ]
  },
  {
   "cell_type": "markdown",
   "id": "96566031",
   "metadata": {},
   "source": [
    " ## 데이터 전처리\n"
   ]
  },
  {
   "cell_type": "code",
   "execution_count": 2,
   "id": "da7ec356",
   "metadata": {},
   "outputs": [],
   "source": [
    "import numpy as np\n",
    "from sklearn import preprocessing\n",
    "\n",
    "# 샘플 데이터 정의\n",
    "input_data = np.array([[5.1, -2.9, 3.3],\n",
    "                        [-1.2, 7.8, 6.1],\n",
    "                        [3.9, 0.4, 2.1],\n",
    "                        [7.3, 9.9, -4.5]])"
   ]
  },
  {
   "cell_type": "markdown",
   "id": "d2015aa4",
   "metadata": {},
   "source": [
    "### 이진화"
   ]
  },
  {
   "cell_type": "code",
   "execution_count": 4,
   "id": "31181c42",
   "metadata": {},
   "outputs": [
    {
     "name": "stdout",
     "output_type": "stream",
     "text": [
      "\n",
      "Binarized data:\n",
      " [[1. 0. 1.]\n",
      " [0. 1. 1.]\n",
      " [1. 0. 0.]\n",
      " [1. 1. 0.]]\n"
     ]
    }
   ],
   "source": [
    "# 데이터 이진화\n",
    "# 내장 메서드 사용, 임계값 = 2.1\n",
    "data_binarized = preprocessing.Binarizer(threshold=2.1).transform(input_data)\n",
    "print(\"\\nBinarized data:\\n\", data_binarized)\n",
    "# 2.1보다 큰 값은 모두 1이 되고 나머지는 모두 0이 됨"
   ]
  },
  {
   "cell_type": "markdown",
   "id": "e293c592",
   "metadata": {},
   "source": [
    "### 평균 제거"
   ]
  },
  {
   "cell_type": "code",
   "execution_count": 5,
   "id": "d2eceb9a",
   "metadata": {},
   "outputs": [
    {
     "name": "stdout",
     "output_type": "stream",
     "text": [
      "\n",
      "BEFORE:\n",
      "Mean = [3.775 3.8   1.75 ]\n",
      "Std deviation = [3.12039661 5.23593354 3.8894087 ]\n",
      "\n",
      "AFTER:\n",
      "Mean = [1.11022302e-16 0.00000000e+00 5.55111512e-17]\n",
      "Std deviation = [1. 1. 1.]\n"
     ]
    }
   ],
   "source": [
    "# 평균과 표준 편차 츌력\n",
    "print(\"\\nBEFORE:\")\n",
    "print(\"Mean =\", input_data.mean(axis=0))\n",
    "print(\"Std deviation =\", input_data.std(axis=0))\n",
    "\n",
    "# 평균 제거\n",
    "data_scaled = preprocessing.scale(input_data)\n",
    "print(\"\\nAFTER:\")\n",
    "print(\"Mean =\", data_scaled.mean(axis=0))\n",
    "print(\"Std deviation =\", data_scaled.std(axis=0))"
   ]
  },
  {
   "cell_type": "markdown",
   "id": "20210f72",
   "metadata": {},
   "source": [
    "### 스케일링( Scaling )"
   ]
  },
  {
   "cell_type": "code",
   "execution_count": 8,
   "id": "e83ba2d1",
   "metadata": {},
   "outputs": [
    {
     "name": "stdout",
     "output_type": "stream",
     "text": [
      "\n",
      "Min max scaled data: \n",
      " [[0.74117647 0.         0.73584906]\n",
      " [0.         0.8359375  1.        ]\n",
      " [0.6        0.2578125  0.62264151]\n",
      " [1.         1.         0.        ]]\n"
     ]
    }
   ],
   "source": [
    "# 최소-최대 스케일링 \n",
    "data_scaled_minmax = preprocessing.MinMaxScaler(feature_range=(0, 1)) # 0~1 범위\n",
    "data_scaled_minmax = data_scaled_minmax.fit_transform(input_data)\n",
    "print(\"\\nMin max scaled data: \\n\", data_scaled_minmax) "
   ]
  },
  {
   "cell_type": "markdown",
   "id": "bd7e427b",
   "metadata": {},
   "source": [
    "### 정규화( Normalization )"
   ]
  },
  {
   "cell_type": "code",
   "execution_count": 9,
   "id": "3ffbba69",
   "metadata": {},
   "outputs": [
    {
     "name": "stdout",
     "output_type": "stream",
     "text": [
      "\n",
      "L1 normalized data:\n",
      " [[ 0.45132743 -0.25663717  0.2920354 ]\n",
      " [-0.0794702   0.51655629  0.40397351]\n",
      " [ 0.609375    0.0625      0.328125  ]\n",
      " [ 0.33640553  0.4562212  -0.20737327]]\n"
     ]
    },
    {
     "ename": "NameError",
     "evalue": "name 'dara_normalized_l2' is not defined",
     "output_type": "error",
     "traceback": [
      "\u001b[0;31m---------------------------------------------------------------------------\u001b[0m",
      "\u001b[0;31mNameError\u001b[0m                                 Traceback (most recent call last)",
      "Input \u001b[0;32mIn [9]\u001b[0m, in \u001b[0;36m<cell line: 5>\u001b[0;34m()\u001b[0m\n\u001b[1;32m      3\u001b[0m data_normalized_l2 \u001b[38;5;241m=\u001b[39m preprocessing\u001b[38;5;241m.\u001b[39mnormalize(input_data, norm\u001b[38;5;241m=\u001b[39m\u001b[38;5;124m'\u001b[39m\u001b[38;5;124ml2\u001b[39m\u001b[38;5;124m'\u001b[39m)\n\u001b[1;32m      4\u001b[0m \u001b[38;5;28mprint\u001b[39m(\u001b[38;5;124m\"\u001b[39m\u001b[38;5;130;01m\\n\u001b[39;00m\u001b[38;5;124mL1 normalized data:\u001b[39m\u001b[38;5;130;01m\\n\u001b[39;00m\u001b[38;5;124m\"\u001b[39m, dara_normalized_l1)\n\u001b[0;32m----> 5\u001b[0m \u001b[38;5;28mprint\u001b[39m(\u001b[38;5;124m\"\u001b[39m\u001b[38;5;130;01m\\n\u001b[39;00m\u001b[38;5;124mL1 normalized data:\u001b[39m\u001b[38;5;130;01m\\n\u001b[39;00m\u001b[38;5;124m\"\u001b[39m, \u001b[43mdara_normalized_l2\u001b[49m)\n",
      "\u001b[0;31mNameError\u001b[0m: name 'dara_normalized_l2' is not defined"
     ]
    }
   ],
   "source": [
    "# 데이터 정규화\n",
    "data_normalized_l1 = preprocessing.normalize(input_data, norm='l1')\n",
    "data_normalized_l2 = preprocessing.normalize(input_data, norm='l2')\n",
    "print(\"\\nL1 normalized data:\\n\", dara_normalized_l1)\n",
    "print(\"\\nL1 normalized data:\\n\", dara_normalized_l2)"
   ]
  },
  {
   "cell_type": "code",
   "execution_count": null,
   "id": "ff708f3b",
   "metadata": {},
   "outputs": [],
   "source": []
  }
 ],
 "metadata": {
  "kernelspec": {
   "display_name": "Python 3 (ipykernel)",
   "language": "python",
   "name": "python3"
  },
  "language_info": {
   "codemirror_mode": {
    "name": "ipython",
    "version": 3
   },
   "file_extension": ".py",
   "mimetype": "text/x-python",
   "name": "python",
   "nbconvert_exporter": "python",
   "pygments_lexer": "ipython3",
   "version": "3.8.5"
  }
 },
 "nbformat": 4,
 "nbformat_minor": 5
}
