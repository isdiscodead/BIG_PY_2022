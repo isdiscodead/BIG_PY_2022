{
 "cells": [
  {
   "cell_type": "markdown",
   "id": "4d622a0c",
   "metadata": {},
   "source": [
    "### `지도 학습( Supervised Learning )`\n",
    "\n",
    "→ 레이블이 지정된 훈련 데이터 기반으로 모델 구축 \n",
    "\n",
    "- 각 행은 `입력 변수`와 원하는 `대상 변수`로 구성됨\n",
    "- ex ) 타이타닉 데이터의 성별, 나이, 객실 클래스 → 승객의 생존 여부"
   ]
  },
  {
   "cell_type": "markdown",
   "id": "4a177e50",
   "metadata": {},
   "source": [
    " ## 데이터 전처리\n",
    "훈련 프로세스 시작 전에 데이터를 특정 방식으로 형식화 해야 함 → 전처리( Preprocessing )"
   ]
  },
  {
   "cell_type": "code",
   "execution_count": 2,
   "id": "9cfc1fba",
   "metadata": {},
   "outputs": [],
   "source": [
    "import numpy as np\n",
    "from sklearn import preprocessing\n",
    "\n",
    "# 샘플 데이터 정의\n",
    "input_data = np.array([[5.1, -2.9, 3.3],\n",
    "                        [-1.2, 7.8, 6.1],\n",
    "                        [3.9, 0.4, 2.1],\n",
    "                        [7.3, 9.9, -4.5]])"
   ]
  },
  {
   "cell_type": "markdown",
   "id": "d1765b4b",
   "metadata": {},
   "source": [
    "### 이진화 ( binarization )\n",
    "숫자 값 → boolean 값으로 변환"
   ]
  },
  {
   "cell_type": "code",
   "execution_count": 4,
   "id": "f5babd45",
   "metadata": {},
   "outputs": [
    {
     "name": "stdout",
     "output_type": "stream",
     "text": [
      "\n",
      "Binarized data:\n",
      " [[1. 0. 1.]\n",
      " [0. 1. 1.]\n",
      " [1. 0. 0.]\n",
      " [1. 1. 0.]]\n"
     ]
    }
   ],
   "source": [
    "# 데이터 이진화\n",
    "# 내장 메서드 사용, 임계값 = 2.1\n",
    "data_binarized = preprocessing.Binarizer(threshold=2.1).transform(input_data)\n",
    "print(\"\\nBinarized data:\\n\", data_binarized)\n",
    "# 2.1보다 큰 값은 모두 1이 되고 나머지는 모두 0이 됨"
   ]
  },
  {
   "cell_type": "markdown",
   "id": "752ee41d",
   "metadata": {},
   "source": [
    "### 평균 제거( mean removal )\n",
    "\n",
    "특성 벡터에서 평균을 제거해 각 특성이 0을 중심으로 분포하도록 → 편향 제거 ( 표준 편차 = 1 )"
   ]
  },
  {
   "cell_type": "code",
   "execution_count": 5,
   "id": "fbd51cca",
   "metadata": {},
   "outputs": [
    {
     "name": "stdout",
     "output_type": "stream",
     "text": [
      "\n",
      "BEFORE:\n",
      "Mean = [3.775 3.8   1.75 ]\n",
      "Std deviation = [3.12039661 5.23593354 3.8894087 ]\n",
      "\n",
      "AFTER:\n",
      "Mean = [1.11022302e-16 0.00000000e+00 5.55111512e-17]\n",
      "Std deviation = [1. 1. 1.]\n"
     ]
    }
   ],
   "source": [
    "# 평균과 표준 편차 츌력\n",
    "print(\"\\nBEFORE:\")\n",
    "print(\"Mean =\", input_data.mean(axis=0))\n",
    "print(\"Std deviation =\", input_data.std(axis=0))\n",
    "\n",
    "# 평균 제거\n",
    "data_scaled = preprocessing.scale(input_data)\n",
    "print(\"\\nAFTER:\")\n",
    "print(\"Mean =\", data_scaled.mean(axis=0))\n",
    "print(\"Std deviation =\", data_scaled.std(axis=0))"
   ]
  },
  {
   "cell_type": "markdown",
   "id": "4b5330a7",
   "metadata": {},
   "source": [
    "### 스케일링( Scaling )\n",
    "여러 특성 사이의 숫자 값 범위가 상당히 다를 때 가중치를 동일하게, 이상치의 중요도가 크지 않도록 스케일링\n",
    "\n",
    "모든 특성을 0~1처럼 작은 범위로 → `MinMaxScaler` 알고리즘"
   ]
  },
  {
   "cell_type": "code",
   "execution_count": 8,
   "id": "02533265",
   "metadata": {},
   "outputs": [
    {
     "name": "stdout",
     "output_type": "stream",
     "text": [
      "\n",
      "Min max scaled data: \n",
      " [[0.74117647 0.         0.73584906]\n",
      " [0.         0.8359375  1.        ]\n",
      " [0.6        0.2578125  0.62264151]\n",
      " [1.         1.         0.        ]]\n"
     ]
    }
   ],
   "source": [
    "# 최소-최대 스케일링 \n",
    "data_scaled_minmax = preprocessing.MinMaxScaler(feature_range=(0, 1)) # 0~1 범위\n",
    "data_scaled_minmax = data_scaled_minmax.fit_transform(input_data)\n",
    "print(\"\\nMin max scaled data: \\n\", data_scaled_minmax) "
   ]
  },
  {
   "cell_type": "markdown",
   "id": "c2e7017d",
   "metadata": {},
   "source": [
    "### 정규화( Normalization )\n",
    "스케일링은 값 `범위`를 변경하는 반면, 정규화는 데이터 `분포의 모양`을 변경\n",
    "\n",
    "→ 머신러닝 모델이 잘 작동하려면 특성 값이 정규 분포를 따르는 것이 바람직"
   ]
  },
  {
   "cell_type": "code",
   "execution_count": 10,
   "id": "dc8096f9",
   "metadata": {},
   "outputs": [
    {
     "name": "stdout",
     "output_type": "stream",
     "text": [
      "\n",
      "L1 normalized data:\n",
      " [[ 0.45132743 -0.25663717  0.2920354 ]\n",
      " [-0.0794702   0.51655629  0.40397351]\n",
      " [ 0.609375    0.0625      0.328125  ]\n",
      " [ 0.33640553  0.4562212  -0.20737327]]\n",
      "\n",
      "L1 normalized data:\n",
      " [[ 0.75765788 -0.43082507  0.49024922]\n",
      " [-0.12030718  0.78199664  0.61156148]\n",
      " [ 0.87690281  0.08993875  0.47217844]\n",
      " [ 0.55734935  0.75585734 -0.34357152]]\n"
     ]
    }
   ],
   "source": [
    "# 데이터 정규화\n",
    "data_normalized_l1 = preprocessing.normalize(input_data, norm='l1')\n",
    "data_normalized_l2 = preprocessing.normalize(input_data, norm='l2')\n",
    "print(\"\\nL1 normalized data:\\n\", data_normalized_l1)\n",
    "print(\"\\nL1 normalized data:\\n\", data_normalized_l2)"
   ]
  },
  {
   "cell_type": "markdown",
   "id": "2600f91b",
   "metadata": {},
   "source": [
    "## 레이블 인코딩\n",
    "많은 알고리즘이 입력으로 숫자 요구 → 단어 레이블을 숫자로 변환하는 프로세스 "
   ]
  },
  {
   "cell_type": "code",
   "execution_count": 11,
   "id": "dab5bfce",
   "metadata": {},
   "outputs": [
    {
     "name": "stdout",
     "output_type": "stream",
     "text": [
      "\n",
      "Label mapping:\n",
      "black -> 0\n",
      "green -> 1\n",
      "red -> 2\n",
      "white -> 3\n",
      "yellow -> 4\n",
      "\n",
      "Enecoded values = [3, 0, 4, 1]\n",
      "Decoded labels = ['white', 'black', 'yellow', 'green']\n"
     ]
    }
   ],
   "source": [
    "# 샘플 입력 레이블\n",
    "input_labels = ['red', 'black', 'red', 'green', 'black', 'yellow', 'white']\n",
    "\n",
    "# 레이블 인코더 생성 후 레이블 적용\n",
    "encoder = preprocessing.LabelEncoder()\n",
    "encoder.fit(input_labels)\n",
    "\n",
    "# 매핑 출력\n",
    "print(\"\\nLabel mapping:\")\n",
    "for i, item in enumerate(encoder.classes_):\n",
    "\tprint(item, '->', i)\n",
    "\n",
    "# 디코딩\n",
    "encoded_values = [3, 0, 4, 1]\n",
    "decoded_list = encoder.inverse_transform(encoded_values)\n",
    "print(\"\\nEnecoded values =\", list(encoded_values))\n",
    "print(\"Decoded labels =\", list(decoded_list))"
   ]
  },
  {
   "cell_type": "markdown",
   "id": "1e3a7834",
   "metadata": {},
   "source": [
    "## 로지스틱 회귀 분류기"
   ]
  },
  {
   "cell_type": "code",
   "execution_count": 14,
   "id": "881646c8",
   "metadata": {},
   "outputs": [],
   "source": [
    "from sklearn import linear_model\n",
    "import matplotlib.pyplot as plt\n",
    "\n",
    "def visualize_classifier(classifier, X, y):\n",
    "\t# 메시 그리드에서 사용할 X와 y의 최솟값/최댓값 정의\n",
    "\tmin_x, max_x = X[:, 0].min() - 1.0, X[:, 0].max() + 1.0\n",
    "\tmin_y, max_y = X[:, 1].min() - 1.0, X[:, 1].max() + 1.0\n",
    "\t# 메시 그리드를 그리는 데 사용할 스텝 크기 정의\n",
    "\tmesh_step_size = 0.01\n",
    "\n",
    "# 2차원 벡터와 레이블로 샘플 입력 데이터 정의\n",
    "X = np.array([[3.1, 7.2], [4, 6.7], [2.9, 8], [5.1, 4.5], [6, 5], [5.6, 5], [3.3, 0.4], [3.9, 0.9], [2.8, 1], [0.5, 3.4], [1, 4], [0.6, 4.9]])\n",
    "y = np.array([0, 0, 0, 1, 1, 1, 2, 2, 2, 3, 3, 3])\n",
    "\n",
    "# 로지스틱 회귀 분류기 생성\n",
    "classifier = linear_model.LogisticRegression(solver='liblinear', C=1)\n",
    "\n",
    "# 분류기 훈련\n",
    "classifier.fit(X, y)\n",
    "\n",
    "# 성능 시각화\n",
    "visualize_classifier(classifier, X, y)"
   ]
  },
  {
   "cell_type": "markdown",
   "id": "06e141bc",
   "metadata": {},
   "source": [
    "## 나이브 베이즈 분류기( Naive Bayes )\n",
    "Baye’s Theorem 사용해 분류기 구축 → 이벤트와 관련된 다양한 조건에 따라 이벤트 발생 확률 설명\n",
    "\n",
    "문제 인스턴스( 특성 값의 벡터 )에 클래스 레이블을 할당해 구축\n",
    "\n",
    "주어진 특성의 값이 다른 특성에 값에 독립임을 가정 = `독립 가정` = 나이브에 해당하는 부분"
   ]
  },
  {
   "cell_type": "code",
   "execution_count": 16,
   "id": "b5943cc7",
   "metadata": {},
   "outputs": [
    {
     "name": "stdout",
     "output_type": "stream",
     "text": [
      "Accuracy of Naive Bayes classifier = 99.75 %\n"
     ]
    }
   ],
   "source": [
    "from sklearn.naive_bayes import GaussianNB\n",
    "from sklearn.model_selection import train_test_split\n",
    "from sklearn.model_selection import cross_val_score\n",
    "\n",
    "# 입력 파일은 데이터 포함\n",
    "input_file = 'data_multivar_nb.txt'\n",
    "\n",
    "# 입력 파일에서 데이터 로드\n",
    "data = np.loadtxt(input_file, delimiter=',')\n",
    "X, y = data[:, :-1], data[:, -1]\n",
    "\n",
    "# 나이브 베이즈 분류기 생성\n",
    "classifier = GaussianNB()\n",
    "\n",
    "# 분류기 훈련\n",
    "classifier.fit(X, y)\n",
    "\n",
    "# 학습된 데이터의 값 예측\n",
    "y_pred = classifier.predict(X)\n",
    "\n",
    "# 분류기 정확도 계산\n",
    "accuracy = 100.0 * (y == y_pred).sum() / X.shape[0]\n",
    "print(\"Accuracy of Naive Bayes classifier =\", round(accuracy, 2), \"%\")\n",
    "\n",
    "# 분류기 성능 시각화\n",
    "visualize_classifier(classifier, X, y)"
   ]
  },
  {
   "cell_type": "markdown",
   "id": "b1fcc940",
   "metadata": {},
   "source": [
    "### 데이터 분리 및 교차 검증"
   ]
  },
  {
   "cell_type": "code",
   "execution_count": 17,
   "id": "7b64dc2b",
   "metadata": {},
   "outputs": [
    {
     "name": "stdout",
     "output_type": "stream",
     "text": [
      "Accuracy of the new classifier = 100.0 %\n"
     ]
    }
   ],
   "source": [
    "# 데이터를 훈련과 테스트 데이터로 분리\n",
    "X_train, X_test, y_train, y_test = train_test_split(X, y, test_size=0.2, random_state=3)\n",
    "classifier_new = GaussianNB()\n",
    "classifier_new.fit(X_train, y_train)\n",
    "y_test_pred = classifier_new.predict(X_test)\n",
    "\n",
    "# 정확도 계산\n",
    "accuracy = 100.0 * (y_test == y_test_pred).sum() / X_test.shape[0]\n",
    "print(\"Accuracy of the new classifier =\", round(accuracy, 2), \"%\")\n",
    "\n",
    "# 분류기 성능 시각화\n",
    "visualize_classifier(classifier_new, X_test, y_test)"
   ]
  },
  {
   "cell_type": "code",
   "execution_count": 18,
   "id": "e088dd1e",
   "metadata": {},
   "outputs": [
    {
     "name": "stdout",
     "output_type": "stream",
     "text": [
      "Accuracy: 99.75%\n",
      "Precision: 99.76%\n",
      "Recall: 99.75%\n",
      "F1: 99.75%\n"
     ]
    }
   ],
   "source": [
    "# 점수화 \n",
    "num_folds = 3\n",
    "accuracy_values = cross_val_score(classifier, \n",
    "        X, y, scoring='accuracy', cv=num_folds)\n",
    "print(\"Accuracy: \" + str(round(100*accuracy_values.mean(), 2)) + \"%\")\n",
    "\n",
    "precision_values = cross_val_score(classifier, \n",
    "        X, y, scoring='precision_weighted', cv=num_folds)\n",
    "print(\"Precision: \" + str(round(100*precision_values.mean(), 2)) + \"%\")\n",
    "\n",
    "recall_values = cross_val_score(classifier, \n",
    "        X, y, scoring='recall_weighted', cv=num_folds)\n",
    "print(\"Recall: \" + str(round(100*recall_values.mean(), 2)) + \"%\")\n",
    "\n",
    "f1_values = cross_val_score(classifier, \n",
    "        X, y, scoring='f1_weighted', cv=num_folds)\n",
    "print(\"F1: \" + str(round(100*f1_values.mean(), 2)) + \"%\")"
   ]
  },
  {
   "cell_type": "markdown",
   "id": "f821de44",
   "metadata": {},
   "source": [
    "## 컨퓨전 행렬\n",
    "분류기의 성능을 설명하기 위해 사용하는 그림이나 표를 의미함\n",
    "\n",
    "행렬의 각 행은 예측된 클래스의 인스턴스, 각 열은 실제 클래스의 인스턴스를 나타냄\n"
   ]
  },
  {
   "cell_type": "markdown",
   "id": "a543cfbf",
   "metadata": {},
   "source": [
    "- `참 양성 ( true positive )` : 참인 값을 참으로 예측한 샘플\n",
    "- `참 음성 ( true negative )` : 거짓인 값을 거짓으로 예측한 샘플\n",
    "- `거짓 양성( false positive )` : 거짓인 값을 참으로 예측한 샘플 (= 1종 오류 )\n",
    "- `거짓 음성( false negative )` : 참인 값을 거짓으로 예측한 샘플 (= 2종 오류 )"
   ]
  },
  {
   "cell_type": "code",
   "execution_count": 19,
   "id": "e59e18b7",
   "metadata": {},
   "outputs": [
    {
     "data": {
      "image/png": "[encoded data removed]",
      "text/plain": [
       "<Figure size 432x288 with 2 Axes>"
      ]
     },
     "metadata": {
      "needs_background": "light"
     },
     "output_type": "display_data"
    },
    {
     "name": "stdout",
     "output_type": "stream",
     "text": [
      "\n",
      "               precision    recall  f1-score   support\n",
      "\n",
      "     Class-0       1.00      0.67      0.80         3\n",
      "     Class-1       0.33      1.00      0.50         1\n",
      "     Class-2       1.00      1.00      1.00         2\n",
      "     Class-3       0.67      0.67      0.67         3\n",
      "     Class-4       1.00      0.50      0.67         2\n",
      "\n",
      "    accuracy                           0.73        11\n",
      "   macro avg       0.80      0.77      0.73        11\n",
      "weighted avg       0.85      0.73      0.75        11\n",
      "\n"
     ]
    }
   ],
   "source": [
    "from sklearn.metrics import confusion_matrix\n",
    "from sklearn.metrics import classification_report\n",
    "\n",
    "# 샘플 라벨 생성\n",
    "true_labels = [2, 0, 0, 2, 4, 4, 1, 0, 3, 3, 3]\n",
    "pred_labels = [2, 1, 0, 2, 4, 3, 1, 0, 1, 3, 3]\n",
    "\n",
    "# 컨퓨전 행렬 생성\n",
    "confusion_mat = confusion_matrix(true_labels, pred_labels)\n",
    "\n",
    "# 컨퓨전 행렬 시각화 \n",
    "plt.imshow(confusion_mat, interpolation='nearest', cmap=plt.cm.gray)\n",
    "plt.title('Confusion matrix')\n",
    "plt.colorbar()\n",
    "ticks = np.arange(5)\n",
    "plt.xticks(ticks, ticks)\n",
    "plt.yticks(ticks, ticks)\n",
    "plt.ylabel('True labels')\n",
    "plt.xlabel('Predicted labels')\n",
    "plt.show()\n",
    "\n",
    "# 클래스 분류 report\n",
    "targets = ['Class-0', 'Class-1', 'Class-2', 'Class-3', 'Class-4']\n",
    "print('\\n', classification_report(true_labels, pred_labels, target_names=targets))"
   ]
  },
  {
   "cell_type": "markdown",
   "id": "a46b1edf",
   "metadata": {},
   "source": [
    "## 서포트 벡터 머신 ( SVM ) \n",
    "클래스 간의 분리 `초평면( hyperplane; 선의 N차원 버전 … )`을 사용해 정의되는 분류기\n",
    "\n",
    "레이블이 지정된 훈련 데이터 + 이진 분류 문제"
   ]
  },
  {
   "cell_type": "code",
   "execution_count": 23,
   "id": "6ec5262a",
   "metadata": {},
   "outputs": [
    {
     "name": "stderr",
     "output_type": "stream",
     "text": [
      "/Users/isdiscodead/opt/anaconda3/lib/python3.8/site-packages/sklearn/svm/_base.py:1206: ConvergenceWarning: Liblinear failed to converge, increase the number of iterations.\n",
      "  warnings.warn(\n",
      "/Users/isdiscodead/opt/anaconda3/lib/python3.8/site-packages/sklearn/svm/_base.py:1206: ConvergenceWarning: Liblinear failed to converge, increase the number of iterations.\n",
      "  warnings.warn(\n",
      "/Users/isdiscodead/opt/anaconda3/lib/python3.8/site-packages/sklearn/svm/_base.py:1206: ConvergenceWarning: Liblinear failed to converge, increase the number of iterations.\n",
      "  warnings.warn(\n",
      "/Users/isdiscodead/opt/anaconda3/lib/python3.8/site-packages/sklearn/svm/_base.py:1206: ConvergenceWarning: Liblinear failed to converge, increase the number of iterations.\n",
      "  warnings.warn(\n"
     ]
    },
    {
     "name": "stdout",
     "output_type": "stream",
     "text": [
      "F1 score: 56.15%\n"
     ]
    },
    {
     "name": "stderr",
     "output_type": "stream",
     "text": [
      "/Users/isdiscodead/opt/anaconda3/lib/python3.8/site-packages/sklearn/svm/_base.py:1206: ConvergenceWarning: Liblinear failed to converge, increase the number of iterations.\n",
      "  warnings.warn(\n"
     ]
    },
    {
     "data": {
      "text/plain": [
       "'\\nfor i, item in enumerate(input_data):\\n    if item.isdigit():\\n        input_data_encoded[i] = int(input_data[i])\\n    else:\\n        input_data_encoded[i] = int(label_encoder[count].transform(input_data[i]))\\n        count += 1 \\n\\ninput_data_encoded = np.array(input_data_encoded)\\n\\n# encoded datapoint에 대해 예측하고 결과 출력\\npredicted_class = classifier.predict(input_data_encoded)\\nprint(label_encoder[-1].inverse_transform(predicted_class)[0])\\n'"
      ]
     },
     "execution_count": 23,
     "metadata": {},
     "output_type": "execute_result"
    }
   ],
   "source": [
    "from sklearn.svm import LinearSVC\n",
    "from sklearn.multiclass import OneVsOneClassifier\n",
    "\n",
    "from sklearn.model_selection import train_test_split\n",
    "from sklearn.model_selection import cross_val_score\n",
    "\n",
    "# 데이터를 가져올 Input file \n",
    "input_file = 'income_data.txt'\n",
    "\n",
    "# 데이터 읽어오기\n",
    "X = []\n",
    "y = []\n",
    "count_class1 = 0\n",
    "count_class2 = 0\n",
    "max_datapoints = 25000\n",
    "\n",
    "with open(input_file, 'r') as f:\n",
    "    # 각 라인 읽어오기 \n",
    "    for line in f.readlines():\n",
    "        if count_class1 >= max_datapoints and count_class2 >= max_datapoints:\n",
    "            break\n",
    "\n",
    "        if '?' in line:\n",
    "            continue\n",
    "\n",
    "        # 각 라인은 쉼표로 분리되어 있음 \n",
    "        data = line[:-1].split(', ')\n",
    "\n",
    "        if data[-1] == '<=50K' and count_class1 < max_datapoints:\n",
    "            X.append(data)\n",
    "            count_class1 += 1\n",
    "\n",
    "        if data[-1] == '>50K' and count_class2 < max_datapoints:\n",
    "            X.append(data)\n",
    "            count_class2 += 1\n",
    "\n",
    "# numpy array로 변경 \n",
    "X = np.array(X)\n",
    "\n",
    "# 문자열 -> 숫자로 레이블 인코딩 \n",
    "label_encoder = [] \n",
    "X_encoded = np.empty(X.shape)\n",
    "for i,item in enumerate(X[0]):\n",
    "    if item.isdigit(): \n",
    "        X_encoded[:, i] = X[:, i]\n",
    "    else:\n",
    "        label_encoder.append(preprocessing.LabelEncoder())\n",
    "        X_encoded[:, i] = label_encoder[-1].fit_transform(X[:, i])\n",
    "\n",
    "X = X_encoded[:, :-1].astype(int)\n",
    "y = X_encoded[:, -1].astype(int)\n",
    "\n",
    "\n",
    "# SVM 분류기 인스턴스 생성 \n",
    "classifier = OneVsOneClassifier(LinearSVC(random_state=0))\n",
    "# 분류기 학습 \n",
    "classifier.fit(X, y)\n",
    "\n",
    "\n",
    "# 교차 검증\n",
    "X_train, X_test, y_train, y_test = train_test_split(X, y, test_size=0.2, random_state=5)\n",
    "classifier = OneVsOneClassifier(LinearSVC(random_state=0))\n",
    "classifier.fit(X_train, y_train)\n",
    "y_test_pred = classifier.predict(X_test)\n",
    "\n",
    "# F1 score 확인 \n",
    "f1 = cross_val_score(classifier, X, y, scoring='f1_weighted', cv=3)\n",
    "print(\"F1 score: \" + str(round(100*f1.mean(), 2)) + \"%\")\n",
    "\n",
    "# test datapoint의 예측 결과 확인 \n",
    "input_data = ['37', 'Private', '215646', 'HS-grad', '9', 'Never-married', 'Handlers-cleaners', 'Not-in-family', 'White', 'Male', '0', '0', '40', 'United-States']\n",
    "\n",
    "# test datapoint 인코딩 \n",
    "input_data_encoded = [-1] * len(input_data)\n",
    "count = 0\n",
    "\n",
    "'''\n",
    "for i, item in enumerate(input_data):\n",
    "    if item.isdigit():\n",
    "        input_data_encoded[i] = int(input_data[i])\n",
    "    else:\n",
    "        input_data_encoded[i] = int(label_encoder[count].transform(input_data[i]))\n",
    "        count += 1 \n",
    "\n",
    "input_data_encoded = np.array(input_data_encoded)\n",
    "\n",
    "# encoded datapoint에 대해 예측하고 결과 출력\n",
    "predicted_class = classifier.predict(input_data_encoded)\n",
    "print(label_encoder[-1].inverse_transform(predicted_class)[0])\n",
    "'''"
   ]
  },
  {
   "cell_type": "markdown",
   "id": "48886c31",
   "metadata": {},
   "source": [
    "## 회귀 ( Regression )\n",
    "입력 변수와 연속 값 실수인 출력 변수 간의 관계를 추정하는 프로세스 → 분류와 대조적"
   ]
  },
  {
   "cell_type": "markdown",
   "id": "7975eb6d",
   "metadata": {},
   "source": [
    "### 단일 변수 회귀 구축"
   ]
  },
  {
   "cell_type": "code",
   "execution_count": 24,
   "id": "b3eddc57",
   "metadata": {},
   "outputs": [
    {
     "data": {
      "image/png": "[encoded data removed]",
      "text/plain": [
       "<Figure size 432x288 with 1 Axes>"
      ]
     },
     "metadata": {},
     "output_type": "display_data"
    },
    {
     "name": "stdout",
     "output_type": "stream",
     "text": [
      "Linear regressor performance:\n",
      "Mean absolute error = 0.59\n",
      "Mean squared error = 0.49\n",
      "Median absolute error = 0.51\n",
      "Explain variance score = 0.86\n",
      "R2 score = 0.86\n",
      "\n",
      "New mean absolute error = 0.59\n"
     ]
    }
   ],
   "source": [
    "import pickle\n",
    "\n",
    "from sklearn import linear_model\n",
    "import sklearn.metrics as sm\n",
    "\n",
    "# 데이터를 포함하는 입력 파일\n",
    "input_file = 'data_singlevar_regr.txt' \n",
    "\n",
    "# 데이터 읽기 \n",
    "data = np.loadtxt(input_file, delimiter=',')\n",
    "X, y = data[:, :-1], data[:, -1]\n",
    "\n",
    "# 훈련용 / 테스트용으로 데이터 분할\n",
    "num_training = int(0.8 * len(X))\n",
    "num_test = len(X) - num_training\n",
    "\n",
    "# 훈련 데이터\n",
    "X_train, y_train = X[:num_training], y[:num_training]\n",
    "\n",
    "# 테스트 데이터 \n",
    "X_test, y_test = X[num_training:], y[num_training:]\n",
    "\n",
    "# 선형 회귀 객체 생성\n",
    "regressor = linear_model.LinearRegression()\n",
    "\n",
    "# 훈련 세트를 사용해 모델 훈련\n",
    "regressor.fit(X_train, y_train)\n",
    "\n",
    "# 결과 예측\n",
    "y_test_pred = regressor.predict(X_test)\n",
    "\n",
    "# 그래프 출력 \n",
    "plt.scatter(X_test, y_test, color='green')\n",
    "plt.plot(X_test, y_test_pred, color='black', linewidth=4)\n",
    "plt.xticks(())\n",
    "plt.yticks(())\n",
    "plt.show()\n",
    "\n",
    "# 성능 지표 계산 \n",
    "print(\"Linear regressor performance:\")\n",
    "print(\"Mean absolute error =\", round(sm.mean_absolute_error(y_test, y_test_pred), 2))\n",
    "print(\"Mean squared error =\", round(sm.mean_squared_error(y_test, y_test_pred), 2)) \n",
    "print(\"Median absolute error =\", round(sm.median_absolute_error(y_test, y_test_pred), 2)) \n",
    "print(\"Explain variance score =\", round(sm.explained_variance_score(y_test, y_test_pred), 2))\n",
    "print(\"R2 score =\", round(sm.r2_score(y_test, y_test_pred), 2))\n",
    "\n",
    "# 모델 생성 후에 파일로 저장하고 나중에 사용 가능 -> pickle 모듈 \n",
    "# 모델 유지 \n",
    "output_model_file = 'model.pkl'\n",
    "\n",
    "# 모델 저장 \n",
    "with open(output_model_file, 'wb') as f:\n",
    "    pickle.dump(regressor, f)\n",
    "\n",
    "# 모델 불러오기 \n",
    "with open(output_model_file, 'rb') as f:\n",
    "    regressor_model = pickle.load(f)\n",
    "\n",
    "# 테스트 데이터에 대한 예측 수행 \n",
    "y_test_pred_new = regressor_model.predict(X_test)\n",
    "print(\"\\nNew mean absolute error =\", round(sm.mean_absolute_error(y_test, y_test_pred_new), 2))"
   ]
  },
  {
   "cell_type": "markdown",
   "id": "b345b897",
   "metadata": {},
   "source": [
    "### 다중 변수 회귀 구축"
   ]
  },
  {
   "cell_type": "code",
   "execution_count": null,
   "id": "ef22c3f8",
   "metadata": {},
   "outputs": [],
   "source": []
  }
 ],
 "metadata": {
  "kernelspec": {
   "display_name": "Python 3 (ipykernel)",
   "language": "python",
   "name": "python3"
  },
  "language_info": {
   "codemirror_mode": {
    "name": "ipython",
    "version": 3
   },
   "file_extension": ".py",
   "mimetype": "text/x-python",
   "name": "python",
   "nbconvert_exporter": "python",
   "pygments_lexer": "ipython3",
   "version": "3.8.5"
  }
 },
 "nbformat": 4,
 "nbformat_minor": 5
}
