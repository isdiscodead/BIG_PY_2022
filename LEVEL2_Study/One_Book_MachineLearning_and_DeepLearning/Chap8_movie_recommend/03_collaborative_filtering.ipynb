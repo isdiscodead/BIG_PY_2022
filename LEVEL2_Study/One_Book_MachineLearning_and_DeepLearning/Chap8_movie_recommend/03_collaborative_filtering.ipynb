{
 "cells": [
  {
   "cell_type": "code",
   "execution_count": 1,
   "id": "287c3612",
   "metadata": {},
   "outputs": [
    {
     "ename": "ModuleNotFoundError",
     "evalue": "No module named 'compute_scores'",
     "output_type": "error",
     "traceback": [
      "\u001b[0;31m---------------------------------------------------------------------------\u001b[0m",
      "\u001b[0;31mModuleNotFoundError\u001b[0m                       Traceback (most recent call last)",
      "Input \u001b[0;32mIn [1]\u001b[0m, in \u001b[0;36m<cell line: 5>\u001b[0;34m()\u001b[0m\n\u001b[1;32m      2\u001b[0m \u001b[38;5;28;01mimport\u001b[39;00m \u001b[38;5;21;01mjson\u001b[39;00m\n\u001b[1;32m      3\u001b[0m \u001b[38;5;28;01mimport\u001b[39;00m \u001b[38;5;21;01mnumpy\u001b[39;00m \u001b[38;5;28;01mas\u001b[39;00m \u001b[38;5;21;01mnp\u001b[39;00m\n\u001b[0;32m----> 5\u001b[0m \u001b[38;5;28;01mfrom\u001b[39;00m \u001b[38;5;21;01mcompute_scores\u001b[39;00m \u001b[38;5;28;01mimport\u001b[39;00m pearson_score\n\u001b[1;32m      8\u001b[0m \u001b[38;5;66;03m# 입력 매개변수 파싱 함수 -> 사용자 이름 입력 \u001b[39;00m\n\u001b[1;32m      9\u001b[0m \u001b[38;5;28;01mdef\u001b[39;00m \u001b[38;5;21mbuild_arg_parser\u001b[39m():\n",
      "\u001b[0;31mModuleNotFoundError\u001b[0m: No module named 'compute_scores'"
     ]
    }
   ],
   "source": [
    "import argparse\n",
    "import json\n",
    "import numpy as np\n",
    "\n",
    "from compute_scores import pearson_score\n",
    "\n",
    "# 입력 매개변수 파싱 함수 -> 사용자 이름 입력 \n",
    "def build_arg_parser():\n",
    "    parser = argparse.ArgumentParser(description='Find users who are similar to the input user')\n",
    "    parser.add_argument('--user', dest='user', required=True,\n",
    "            help='Input user')\n",
    "    return parser\n",
    "\n",
    "\n",
    "# 데이터 세트에서 input 사용자와 유사한 사용자 탐색하는 함수 \n",
    "def find_similar_users(dataset, user, num_users):\n",
    "    if user not in dataset:\n",
    "        raise TypeError('Cannot find ' + user + ' in the dataset')\n",
    "\n",
    "    # input 사용자와 데이터 세트 내의 모든 사용자 간의 피어슨 점수 계산 \n",
    "    scores = np.array([[x, pearson_score(dataset, user, \n",
    "            x)] for x in dataset if x != user])\n",
    "\n",
    "    # 내림차순으로 점수 정렬\n",
    "    scores_sorted = np.argsort(scores[:, 1])[::-1]\n",
    "\n",
    "    # 상위 'num_users' 개의 점수를 추출 후 return \n",
    "    top_users = scores_sorted[:num_users] \n",
    "    return scores[top_users] \n",
    "\n",
    "\n",
    "# main 함수 정의, 입력 매개변수 파싱해 사용자 이름 추출 \n",
    "if __name__=='__main__':\n",
    "    args = build_arg_parser().parse_args()\n",
    "    # user = args.user\n",
    "    user = \"Bill Duffy\"\n",
    "\t\n",
    "\t# 영화 평점 파일 데이터 로드 ( 이름, 평점 포함 )\n",
    "    ratings_file = 'ratings.json'\n",
    "\t\n",
    "    with open(ratings_file, 'r') as f:\n",
    "        data = json.loads(f.read())\n",
    "\n",
    "    print('\\nUsers similar to ' + user + ':\\n')\n",
    "    \n",
    "\t# 상위 3명 추출 \n",
    "    similar_users = find_similar_users(data, user, 3) \n",
    "    print('User\\t\\t\\tSimilarity score')\n",
    "    print('-'*41)\n",
    "    for item in similar_users:\n",
    "        # 이름과 점수 출력 \n",
    "        print(item[0], '\\t\\t', round(float(item[1]), 2))"
   ]
  },
  {
   "cell_type": "code",
   "execution_count": null,
   "id": "9bd3c2dd",
   "metadata": {},
   "outputs": [],
   "source": []
  }
 ],
 "metadata": {
  "kernelspec": {
   "display_name": "Python 3 (ipykernel)",
   "language": "python",
   "name": "python3"
  },
  "language_info": {
   "codemirror_mode": {
    "name": "ipython",
    "version": 3
   },
   "file_extension": ".py",
   "mimetype": "text/x-python",
   "name": "python",
   "nbconvert_exporter": "python",
   "pygments_lexer": "ipython3",
   "version": "3.8.5"
  }
 },
 "nbformat": 4,
 "nbformat_minor": 5
}
